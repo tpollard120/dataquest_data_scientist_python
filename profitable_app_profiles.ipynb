{
 "cells": [
  {
   "cell_type": "markdown",
   "metadata": {},
   "source": [
    "# Identifying Profitable App Categories from the App Store and Google Play Store"
   ]
  },
  {
   "cell_type": "markdown",
   "metadata": {},
   "source": [
    "Our goal is to isolate app profitable app categories in the App Store and Google Play Store. \"Profitability\", for the purposes of our project, will loosely correlate to number of users. This is driven by a desire to create apps whose primary revenue stream comes from ad revenue. Once profitable app categories are identified, we will be able to begin predesign on our own app(s) in an effort to maximlize future profit."
   ]
  },
  {
   "cell_type": "markdown",
   "metadata": {},
   "source": [
    "As of September 2018, there were approximately 2 million App Store apps, and 2.1 million Google Play Store apps. Instead of analyzing all apps in totality, we will focus on a small subset of apps. Specifically, we will analyze 10,000 Android apps available on the Google Play Store (this dataset was collected in August 2018) and approximately 7,000 iOS apps available on the App Store (collected in July 2017)."
   ]
  },
  {
   "cell_type": "markdown",
   "metadata": {},
   "source": [
    "The below function will provide us with an easy way to explore our datasets. It takes 4 parameters. `dataset` takes in a \n",
    "dataset. `start` and `end` represent indices of the dataset. `rows_and_columns` is a Boolean value; when True, it the number \n",
    "of rows and columns will be printed along with the output.\n",
    "\n"
   ]
  },
  {
   "cell_type": "code",
   "execution_count": 1,
   "metadata": {},
   "outputs": [],
   "source": [
    "def explore_data(dataset, start, end, rows_and_columns=False):\n",
    "    dataset_slice = dataset[start:end]    \n",
    "    for row in dataset_slice:\n",
    "        print(row)\n",
    "        print('\\n') # adds a new (empty) line after each row\n",
    "\n",
    "    if rows_and_columns:\n",
    "        print('Number of rows:', len(dataset))\n",
    "        print('Number of columns:', len(dataset[0]))"
   ]
  },
  {
   "cell_type": "code",
   "execution_count": 2,
   "metadata": {},
   "outputs": [
    {
     "name": "stdout",
     "output_type": "stream",
     "text": [
      "['id', 'track_name', 'size_bytes', 'currency', 'price', 'rating_count_tot', 'rating_count_ver', 'user_rating', 'user_rating_ver', 'ver', 'cont_rating', 'prime_genre', 'sup_devices.num', 'ipadSc_urls.num', 'lang.num', 'vpp_lic']\n",
      "['284882215', 'Facebook', '389879808', 'USD', '0.0', '2974676', '212', '3.5', '3.5', '95.0', '4+', 'Social Networking', '37', '1', '29', '1']\n",
      "\n",
      "\n",
      "['389801252', 'Instagram', '113954816', 'USD', '0.0', '2161558', '1289', '4.5', '4.0', '10.23', '12+', 'Photo & Video', '37', '0', '29', '1']\n",
      "\n",
      "\n",
      "['529479190', 'Clash of Clans', '116476928', 'USD', '0.0', '2130805', '579', '4.5', '4.5', '9.24.12', '9+', 'Games', '38', '5', '18', '1']\n",
      "\n",
      "\n",
      "['420009108', 'Temple Run', '65921024', 'USD', '0.0', '1724546', '3842', '4.5', '4.0', '1.6.2', '9+', 'Games', '40', '5', '1', '1']\n",
      "\n",
      "\n",
      "Number of rows: 7197\n",
      "Number of columns: 16\n",
      "['App', 'Category', 'Rating', 'Reviews', 'Size', 'Installs', 'Type', 'Price', 'Content Rating', 'Genres', 'Last Updated', 'Current Ver', 'Android Ver']\n",
      "['Photo Editor & Candy Camera & Grid & ScrapBook', 'ART_AND_DESIGN', '4.1', '159', '19M', '10,000+', 'Free', '0', 'Everyone', 'Art & Design', 'January 7, 2018', '1.0.0', '4.0.3 and up']\n",
      "\n",
      "\n",
      "['Coloring book moana', 'ART_AND_DESIGN', '3.9', '967', '14M', '500,000+', 'Free', '0', 'Everyone', 'Art & Design;Pretend Play', 'January 15, 2018', '2.0.0', '4.0.3 and up']\n",
      "\n",
      "\n",
      "['U Launcher Lite – FREE Live Cool Themes, Hide Apps', 'ART_AND_DESIGN', '4.7', '87510', '8.7M', '5,000,000+', 'Free', '0', 'Everyone', 'Art & Design', 'August 1, 2018', '1.2.4', '4.0.3 and up']\n",
      "\n",
      "\n",
      "['Sketch - Draw & Paint', 'ART_AND_DESIGN', '4.5', '215644', '25M', '50,000,000+', 'Free', '0', 'Teen', 'Art & Design', 'June 8, 2018', 'Varies with device', '4.2 and up']\n",
      "\n",
      "\n",
      "Number of rows: 10841\n",
      "Number of columns: 13\n"
     ]
    }
   ],
   "source": [
    "from csv import reader\n",
    "\n",
    "open_file = open(\"AppleStore.csv\", encoding='utf8')\n",
    "reader_file = reader(open_file)\n",
    "\n",
    "appstore = list(reader_file)\n",
    "appstore_header = appstore[0]\n",
    "appstore = appstore[1:]\n",
    "\n",
    "open_file = open(\"googleplaystore.csv\", encoding='utf8')\n",
    "reader_file = reader(open_file)\n",
    "\n",
    "playstore = list(reader_file)\n",
    "playstore_header = playstore[0]\n",
    "playstore = playstore[1:]\n",
    "\n",
    "print(appstore_header)\n",
    "explore_data(appstore, 0, 4, rows_and_columns = True)\n",
    "\n",
    "print(playstore_header)\n",
    "explore_data(playstore, 0, 4, rows_and_columns = True)\n"
   ]
  },
  {
   "cell_type": "markdown",
   "metadata": {},
   "source": [
    "Above, we can see that there are 7,197 apps and 16 columns in our App Store dataset. Columns that appear to be relevant for our purposes: `track_name`, `rating_count_tot`, `rating_count_ver`, and `prime_genre`. Similarly, we can see that there are 10,841 apps and 13 columns in our Play Store dataset. Columns that appear to be relevant for our purposes: `App`, `Category`, `Rating`, `Reviews`, `Installs`, `Type`, and `Genres`."
   ]
  },
  {
   "cell_type": "markdown",
   "metadata": {},
   "source": [
    "As stated previously, we will focus on apps that can provide a desirable revenue stream from ad revenue. We will therefore focus on free apps. Relatedly, our app will be developed for a primarily English audience. Our analaysis will therefore focus on free, English apps. Before we can begin our analysis in earnest, we will first need to clean our datasets."
   ]
  },
  {
   "cell_type": "code",
   "execution_count": 3,
   "metadata": {},
   "outputs": [],
   "source": [
    "# Row 10472 in our Google Play Store dataset has a missing category. We will opt to remove this datapoint.\n",
    "del playstore[10472]"
   ]
  },
  {
   "cell_type": "markdown",
   "metadata": {},
   "source": [
    "From previous research, we know that the Google Play Store dataset contains duplicate entries for some apps. We will need to remove these duplicate entries prior to proceeding. Let's first confirm that we do in fact have duplicates, and take a look at some examples."
   ]
  },
  {
   "cell_type": "code",
   "execution_count": 4,
   "metadata": {},
   "outputs": [
    {
     "name": "stdout",
     "output_type": "stream",
     "text": [
      "Number of duplicate apps: 1181\n",
      "\n",
      "\n",
      "Examples of duplicate apps: ['Quick PDF Scanner + OCR FREE', 'Box', 'Google My Business', 'ZOOM Cloud Meetings', 'join.me - Simple Meetings', 'Box', 'Zenefits']\n",
      "\n",
      "\n",
      "Number of unqiue apps: 9659\n"
     ]
    }
   ],
   "source": [
    "duplicate_apps = []\n",
    "unique_apps = []\n",
    "\n",
    "for app in playstore:\n",
    "    appname = app[0]\n",
    "    \n",
    "    if appname in unique_apps:\n",
    "        duplicate_apps.append(appname)\n",
    "    else:\n",
    "        unique_apps.append(appname)\n",
    "        \n",
    "print(\"Number of duplicate apps: \" + str(len(duplicate_apps)))\n",
    "print('\\n')\n",
    "print('Examples of duplicate apps:', duplicate_apps[:7])\n",
    "print('\\n')  \n",
    "\n",
    "print(\"Number of unqiue apps: \" + str(len(unique_apps)))"
   ]
  },
  {
   "cell_type": "markdown",
   "metadata": {},
   "source": [
    "We will now take a closer look at one of the apps that we know has duplicates--Box."
   ]
  },
  {
   "cell_type": "code",
   "execution_count": 5,
   "metadata": {},
   "outputs": [
    {
     "name": "stdout",
     "output_type": "stream",
     "text": [
      "['Quick PDF Scanner + OCR FREE', 'BUSINESS', '4.2', '80805', 'Varies with device', '5,000,000+', 'Free', '0', 'Everyone', 'Business', 'February 26, 2018', 'Varies with device', '4.0.3 and up']\n",
      "['Quick PDF Scanner + OCR FREE', 'BUSINESS', '4.2', '80805', 'Varies with device', '5,000,000+', 'Free', '0', 'Everyone', 'Business', 'February 26, 2018', 'Varies with device', '4.0.3 and up']\n",
      "['Quick PDF Scanner + OCR FREE', 'BUSINESS', '4.2', '80804', 'Varies with device', '5,000,000+', 'Free', '0', 'Everyone', 'Business', 'February 26, 2018', 'Varies with device', '4.0.3 and up']\n"
     ]
    }
   ],
   "source": [
    "for app in playstore:\n",
    "    if app[0] == 'Quick PDF Scanner + OCR FREE':\n",
    "        print(app)"
   ]
  },
  {
   "cell_type": "markdown",
   "metadata": {},
   "source": [
    "From this example, we can see that the rows are essentially the same, with the exception of variance in the 4th column in one row. This corresponds to the number of reviews. Essentially, what is happening here is that the number of reviews was tracked on different occasions, and in some cases, instead if simply being updated in line, a new row was created. We also have some truly duplicate rows, where all information is the same, such as with the other two rows that both display the same number of reviews.\n",
    "\n",
    "To ensure we have the most up to date data, we will assume that in cases with duplicates, we will always keep the row that contains the most reviews, so the one with the highest integer value in the 4th column.\n",
    "\n",
    "To accomplish our goal, we will:\n",
    "- Create a dictionary that contains each app, and the highest number of reviews for that app\n",
    "- Build a new dataset that only includes a single entry for each app, using results from the dictionary."
   ]
  },
  {
   "cell_type": "code",
   "execution_count": 6,
   "metadata": {},
   "outputs": [
    {
     "data": {
      "text/plain": [
       "80805.0"
      ]
     },
     "execution_count": 6,
     "metadata": {},
     "output_type": "execute_result"
    }
   ],
   "source": [
    "reviews_max = {}\n",
    "\n",
    "for app in playstore:\n",
    "    appname = app[0]\n",
    "    num_reviews = float(app[3])\n",
    "    \n",
    "    if appname in reviews_max and reviews_max[appname] < num_reviews:\n",
    "        reviews_max[appname] = num_reviews\n",
    "    elif appname not in reviews_max:\n",
    "        reviews_max[appname] = num_reviews\n",
    "\n",
    "\n",
    "reviews_max[\"Quick PDF Scanner + OCR FREE\"]"
   ]
  },
  {
   "cell_type": "markdown",
   "metadata": {},
   "source": [
    "If our dictionary has been created correctly, we should have 9659 key-value pairs, which matches the amount in our unique app test above. Let's check that."
   ]
  },
  {
   "cell_type": "code",
   "execution_count": 7,
   "metadata": {},
   "outputs": [
    {
     "data": {
      "text/plain": [
       "9659"
      ]
     },
     "execution_count": 7,
     "metadata": {},
     "output_type": "execute_result"
    }
   ],
   "source": [
    "len(reviews_max)"
   ]
  },
  {
   "cell_type": "markdown",
   "metadata": {},
   "source": [
    "Now that our dictionary has been created, we will create a new dataset including only unique entries. We will do this by:\n",
    "- Creating a new list, `playstore_cleaned`, which will store our cleaned dataset\n",
    "- Creating a new list, `already_added`, which will enable us to exclude already added apps as we create the new dataset\n",
    "- Iterate through our original `playstore` dataset:\n",
    "    - If an app has not already been added and if the number of reviews for a given row matches the corresponding value in the `reviews_max` dictionary, add the app to the `playstore_cleaned` dataset and add the name to the `already_added` list\n",
    "    - If the app already exists in the `already_added` list, skip over it and move on to the next app"
   ]
  },
  {
   "cell_type": "code",
   "execution_count": 16,
   "metadata": {},
   "outputs": [
    {
     "name": "stdout",
     "output_type": "stream",
     "text": [
      "Total apps in cleaned list 9659\n",
      "\n",
      "\n",
      "Sample apps:\n",
      "\n",
      "\n",
      "['Photo Editor & Candy Camera & Grid & ScrapBook', 'ART_AND_DESIGN', '4.1', '159', '19M', '10,000+', 'Free', '0', 'Everyone', 'Art & Design', 'January 7, 2018', '1.0.0', '4.0.3 and up']\n",
      "\n",
      "\n",
      "['U Launcher Lite – FREE Live Cool Themes, Hide Apps', 'ART_AND_DESIGN', '4.7', '87510', '8.7M', '5,000,000+', 'Free', '0', 'Everyone', 'Art & Design', 'August 1, 2018', '1.2.4', '4.0.3 and up']\n",
      "\n",
      "\n",
      "['Sketch - Draw & Paint', 'ART_AND_DESIGN', '4.5', '215644', '25M', '50,000,000+', 'Free', '0', 'Teen', 'Art & Design', 'June 8, 2018', 'Varies with device', '4.2 and up']\n",
      "\n",
      "\n",
      "['Pixel Draw - Number Art Coloring Book', 'ART_AND_DESIGN', '4.3', '967', '2.8M', '100,000+', 'Free', '0', 'Everyone', 'Art & Design;Creativity', 'June 20, 2018', '1.1', '4.4 and up']\n",
      "\n",
      "\n",
      "['Paper flowers instructions', 'ART_AND_DESIGN', '4.4', '167', '5.6M', '50,000+', 'Free', '0', 'Everyone', 'Art & Design', 'March 26, 2017', '1.0', '2.3 and up']\n",
      "\n",
      "\n",
      "['Smoke Effect Photo Maker - Smoke Editor', 'ART_AND_DESIGN', '3.8', '178', '19M', '50,000+', 'Free', '0', 'Everyone', 'Art & Design', 'April 26, 2018', '1.1', '4.0.3 and up']\n",
      "\n",
      "\n",
      "['Infinite Painter', 'ART_AND_DESIGN', '4.1', '36815', '29M', '1,000,000+', 'Free', '0', 'Everyone', 'Art & Design', 'June 14, 2018', '6.1.61.1', '4.2 and up']\n",
      "\n",
      "\n"
     ]
    }
   ],
   "source": [
    "playstore_cleaned = []\n",
    "already_added = []\n",
    "\n",
    "for app in playstore:\n",
    "    name = app[0]\n",
    "    num_reviews = float(app[3])\n",
    "    \n",
    "    if reviews_max[name] == num_reviews and name not in already_added:\n",
    "        playstore_cleaned.append(app)\n",
    "        already_added.append(name)\n",
    "print(\"Total apps in cleaned list\", len(playstore_cleaned))   \n",
    "print('\\n')\n",
    "print(\"Sample apps:\")\n",
    "print('\\n')\n",
    "explore_data(playstore_cleaned, 0, 7)\n"
   ]
  },
  {
   "cell_type": "markdown",
   "metadata": {},
   "source": [
    "The App Store dataset does not contain any duplicates. It uses an `id` column, and each entry is unique. However, both datasets do contain non-English apps, so we will now need to remove those, per our previously stated goal. Every character corresponds to an ASCII value. Characters commonly used in the English language make up the range 0 to 127. Therefore, we should be able to identify and remove non-English apps by looking for those apps whose name includes an ASCII value of 128 or greater.\n",
    "\n",
    "To facilitate the identification of English apps, we will start by writing a function that can determine if an app is English or not."
   ]
  },
  {
   "cell_type": "code",
   "execution_count": 40,
   "metadata": {},
   "outputs": [],
   "source": [
    "def is_english(appname):\n",
    "    for letter in appname:\n",
    "        if ord(letter) > 127:\n",
    "            return False\n",
    "        \n",
    "    return True"
   ]
  },
  {
   "cell_type": "code",
   "execution_count": 56,
   "metadata": {},
   "outputs": [
    {
     "name": "stdout",
     "output_type": "stream",
     "text": [
      "False\n",
      "False\n",
      "True\n"
     ]
    }
   ],
   "source": [
    "print(is_english(\"لعبة تقدر تربح DZ\"))\n",
    "print(is_english(\"中国語 AQリスニング\"))\n",
    "print(is_english(\"Easy Realistic Drawing Tutorial\"))\n"
   ]
  },
  {
   "cell_type": "markdown",
   "metadata": {},
   "source": [
    "This looks good; however, we may encounter apps that fail this check even if they truly are English apps. For example, if we have an app with an emoji (i.e. 😜) in the title, our function may determine it is not English. This is because these sorts of characters fall out of the ASCII range of 0 - 127"
   ]
  },
  {
   "cell_type": "code",
   "execution_count": 57,
   "metadata": {},
   "outputs": [
    {
     "name": "stdout",
     "output_type": "stream",
     "text": [
      "128540\n"
     ]
    }
   ],
   "source": [
    "print(ord(\"😜\"))"
   ]
  },
  {
   "cell_type": "markdown",
   "metadata": {},
   "source": [
    "To mitigate data loss as much as possible, we will update our function to only exclude apps where at least three characters in the app name exceed an ASCII value of 127."
   ]
  },
  {
   "cell_type": "code",
   "execution_count": 61,
   "metadata": {},
   "outputs": [],
   "source": [
    "def is_english(appname):\n",
    "    non_english_letters = 0\n",
    "    for letter in appname:\n",
    "        if ord(letter) > 127:\n",
    "            non_english_letters += 1\n",
    "        if non_english_letters >= 3:    \n",
    "            return False\n",
    "        \n",
    "    return True"
   ]
  },
  {
   "cell_type": "code",
   "execution_count": 67,
   "metadata": {},
   "outputs": [
    {
     "name": "stdout",
     "output_type": "stream",
     "text": [
      "True\n",
      "True\n",
      "False\n"
     ]
    }
   ],
   "source": [
    "print(is_english('Instachat 😜'))\n",
    "print(is_english('Docs To Go™ Free Office Suite'))\n",
    "print(is_english('爱奇艺PPS -《欢乐颂2》电视剧热播'))"
   ]
  },
  {
   "cell_type": "markdown",
   "metadata": {},
   "source": [
    "Now that our function has been updated, let's create new lists only containing English apps, based on the findings of our `is_english` function."
   ]
  },
  {
   "cell_type": "code",
   "execution_count": 75,
   "metadata": {},
   "outputs": [],
   "source": [
    "playstore_english = []\n",
    "appstore_english = []\n",
    "\n",
    "for app in playstore_cleaned:\n",
    "    if is_english(app[0]) == True:\n",
    "        playstore_english.append(app)\n",
    "\n",
    "for app in appstore:\n",
    "    if is_english(app[1]) == True:\n",
    "        appstore_english.append(app)"
   ]
  },
  {
   "cell_type": "markdown",
   "metadata": {},
   "source": [
    "Finally, we need to remove apps that are not free, since we want to only focus on free apps for our analysis. We will create our 'final' datasets below:"
   ]
  },
  {
   "cell_type": "code",
   "execution_count": 81,
   "metadata": {},
   "outputs": [],
   "source": [
    "playstore_final = []\n",
    "appstore_final = []\n",
    "\n",
    "for app in playstore_english:\n",
    "    price = app[7]\n",
    "    \n",
    "    if price == '0':\n",
    "        playstore_final.append(app)\n",
    "\n",
    "for app in appstore_english:\n",
    "    price = app[4]\n",
    "    \n",
    "    if price == '0.0':\n",
    "        appstore_final.append(app)\n"
   ]
  },
  {
   "cell_type": "markdown",
   "metadata": {},
   "source": [
    "Before we begin our analysis, let's take a look at how many apps we are dealing with in each respective dataset."
   ]
  },
  {
   "cell_type": "code",
   "execution_count": 88,
   "metadata": {},
   "outputs": [
    {
     "name": "stdout",
     "output_type": "stream",
     "text": [
      "Our final Google Play store dataset contains 8848  apps.\n",
      "Our final Apple Store dataset contains 3203  apps.\n"
     ]
    }
   ],
   "source": [
    "print(\"Our final Google Play store dataset contains\", len(playstore_final), \" apps.\")\n",
    "print(\"Our final Apple Store dataset contains\", len(appstore_final), \" apps.\")"
   ]
  },
  {
   "cell_type": "markdown",
   "metadata": {},
   "source": [
    "Our ultimate goal for app development is to first develop an app for Android, measure its success, and if it is ultimately profitable after six months, develop an iOS version of the app. As such, we want to make sure we focus on apps that are successful in both markets, as modifying our future app(s) off of those should increase overall profitability.\n",
    "\n",
    "To start with, we will want to compare genres of apps; specifically, we want to see what genres of apps are profitable in both the Android and iOS marketplaces."
   ]
  },
  {
   "cell_type": "code",
   "execution_count": 92,
   "metadata": {},
   "outputs": [
    {
     "name": "stdout",
     "output_type": "stream",
     "text": [
      "['App', 'Category', 'Rating', 'Reviews', 'Size', 'Installs', 'Type', 'Price', 'Content Rating', 'Genres', 'Last Updated', 'Current Ver', 'Android Ver']\n",
      "['Easy Realistic Drawing Tutorial', 'ART_AND_DESIGN', '4.1', '223', '4.2M', '100,000+', 'Free', '0', 'Everyone', 'Art & Design', 'August 22, 2017', '1.0', '2.3 and up']\n",
      "\n",
      "\n",
      "['id', 'track_name', 'size_bytes', 'currency', 'price', 'rating_count_tot', 'rating_count_ver', 'user_rating', 'user_rating_ver', 'ver', 'cont_rating', 'prime_genre', 'sup_devices.num', 'ipadSc_urls.num', 'lang.num', 'vpp_lic']\n",
      "['543186831', '8 Ball Pool™', '86776832', 'USD', '0.0', '416736', '19076', '4.5', '4.5', '3.9.1', '4+', 'Games', '38', '5', '10', '1']\n"
     ]
    }
   ],
   "source": [
    "print(playstore_header)\n",
    "print(playstore_final[27])\n",
    "print(\"\\n\")\n",
    "print(appstore_header)\n",
    "print(appstore_final[27])"
   ]
  },
  {
   "cell_type": "markdown",
   "metadata": {},
   "source": [
    "Below, we will create two different freuency tables. One for the `prime_genre` column in the Apple Store dataset, and one for the `Genres` column in the Google Play Store dataset. We will then convert that frequency table to display percentages (when compared to the totality of apps in the respective app store) and sort by percentage in descending order."
   ]
  },
  {
   "cell_type": "code",
   "execution_count": 110,
   "metadata": {},
   "outputs": [],
   "source": [
    "def freq_table(dataset, index):\n",
    "    frequencies = {}\n",
    "    \n",
    "    for app in dataset:\n",
    "        if app[index] in frequencies:\n",
    "            frequencies[app[index]] += 1\n",
    "        else:\n",
    "            frequencies[app[index]] = 1\n",
    "    \n",
    "    for k in frequencies:\n",
    "        frequencies[k] = frequencies[k] / len(dataset)\n",
    "    return frequencies\n",
    "\n",
    "    "
   ]
  },
  {
   "cell_type": "code",
   "execution_count": 114,
   "metadata": {},
   "outputs": [],
   "source": [
    "def display_table(dataset, index):\n",
    "    table = freq_table(dataset, index)\n",
    "    table_display = []\n",
    "    for key in table:\n",
    "        key_val_as_tuple = (table[key], key)\n",
    "        table_display.append(key_val_as_tuple)\n",
    "\n",
    "    table_sorted = sorted(table_display, reverse = True)\n",
    "    for entry in table_sorted:\n",
    "        print(entry[1], ':', entry[0])"
   ]
  },
  {
   "cell_type": "code",
   "execution_count": 115,
   "metadata": {},
   "outputs": [
    {
     "name": "stdout",
     "output_type": "stream",
     "text": [
      "Games : 0.5825788323446769\n",
      "Entertainment : 0.07836403371838901\n",
      "Photo & Video : 0.049953168904152356\n",
      "Education : 0.036840462066812366\n",
      "Social Networking : 0.033093974399000935\n",
      "Shopping : 0.025913206369029034\n",
      "Utilities : 0.024664377146425227\n",
      "Sports : 0.021542304089915705\n",
      "Music : 0.020605682172962846\n",
      "Health & Fitness : 0.020293474867311895\n",
      "Productivity : 0.017483609116453323\n",
      "Lifestyle : 0.015610365282547611\n",
      "News : 0.013424914142990947\n",
      "Travel : 0.012488292226038089\n",
      "Finance : 0.010927255697783328\n",
      "Weather : 0.008741804558226662\n",
      "Food & Drink : 0.008117389946924758\n",
      "Reference : 0.005307524196066188\n",
      "Business : 0.005307524196066188\n",
      "Book : 0.003746487667811427\n",
      "Navigation : 0.0018732438339057135\n",
      "Medical : 0.0018732438339057135\n",
      "Catalogs : 0.001248829222603809\n"
     ]
    }
   ],
   "source": [
    "display_table(appstore_final, 11)"
   ]
  },
  {
   "cell_type": "markdown",
   "metadata": {},
   "source": [
    "In the Apple Store, Games make up a whopping 58.3% of total apps (again, remember this is limited in scope to free English apps, so we must be careful not to generalize outside of this analyzed sample). The second highest category is Entertainment apps, at 7.8%. Between those two categories, which can both broadly be categorized as entertainment, over 66%, or 2/3rds of all apps in our sample, are entertainment apps, and that doesn't even incldue other cateogires such as Sports and Music, which may also contain a lot of apps focused on entertainment rather than utility.\n",
    "\n",
    "Out of the categories that are clearly focused on utility, we have:\n",
    "- Photo & Video: 5% \n",
    "- Education: 3.7%\n",
    "- Productivity: 1.7%\n",
    "\n",
    "Those make up just over 10%, which leaves other various categories to account for roughly 24% of apps. Based on the above, it seems clear that entertainment apps, and games in particular, make up the vast majority of Apple Store apps. That being said, this isn't itself evidence that those apps are the most widely used. Let's keep this knowledge off to the side and revisit later."
   ]
  },
  {
   "cell_type": "code",
   "execution_count": 119,
   "metadata": {},
   "outputs": [
    {
     "name": "stdout",
     "output_type": "stream",
     "text": [
      "Tools : 0.08442585895117541\n",
      "Entertainment : 0.06080470162748644\n",
      "Education : 0.05357142857142857\n",
      "Business : 0.04599909584086799\n",
      "Productivity : 0.03899186256781193\n",
      "Lifestyle : 0.038765822784810125\n",
      "Finance : 0.037070524412296565\n",
      "Medical : 0.035375226039783\n",
      "Sports : 0.03458408679927667\n",
      "Personalization : 0.03322784810126582\n",
      "Communication : 0.032323688969258586\n",
      "Action : 0.03096745027124774\n",
      "Health & Fitness : 0.030854430379746837\n",
      "Photography : 0.029498191681735987\n",
      "News & Magazines : 0.02802893309222423\n",
      "Social : 0.02667269439421338\n",
      "Travel & Local : 0.02328209764918626\n",
      "Shopping : 0.02249095840867993\n",
      "Books & Reference : 0.021360759493670885\n",
      "Simulation : 0.020456600361663652\n",
      "Dating : 0.018648282097649186\n",
      "Arcade : 0.01842224231464738\n",
      "Video Players & Editors : 0.017744122965641953\n",
      "Casual : 0.01763110307414105\n",
      "Maps & Navigation : 0.013901446654611212\n",
      "Food & Drink : 0.012432188065099457\n",
      "Puzzle : 0.011301989150090416\n",
      "Racing : 0.009945750452079566\n",
      "Role Playing : 0.009380650994575045\n",
      "Libraries & Demo : 0.009380650994575045\n",
      "Auto & Vehicles : 0.009267631103074141\n",
      "Strategy : 0.009154611211573236\n",
      "House & Home : 0.008024412296564195\n",
      "Weather : 0.007911392405063292\n",
      "Events : 0.007120253164556962\n",
      "Adventure : 0.006668173598553345\n",
      "Comics : 0.00599005424954792\n",
      "Beauty : 0.00599005424954792\n",
      "Art & Design : 0.00599005424954792\n",
      "Parenting : 0.004972875226039783\n",
      "Card : 0.0045207956600361665\n",
      "Trivia : 0.004181735985533454\n",
      "Casino : 0.004181735985533454\n",
      "Educational;Education : 0.003955696202531646\n",
      "Board : 0.0038426763110307413\n",
      "Educational : 0.003729656419529837\n",
      "Education;Education : 0.0033905967450271247\n",
      "Word : 0.0025994575045207957\n",
      "Casual;Pretend Play : 0.0023734177215189874\n",
      "Music : 0.002034358047016275\n",
      "Racing;Action & Adventure : 0.0016952983725135623\n",
      "Puzzle;Brain Games : 0.0016952983725135623\n",
      "Entertainment;Music & Video : 0.0016952983725135623\n",
      "Casual;Brain Games : 0.00135623869801085\n",
      "Casual;Action & Adventure : 0.00135623869801085\n",
      "Arcade;Action & Adventure : 0.0012432188065099458\n",
      "Action;Action & Adventure : 0.0010171790235081375\n",
      "Educational;Pretend Play : 0.0009041591320072332\n",
      "Simulation;Action & Adventure : 0.0007911392405063291\n",
      "Parenting;Education : 0.0007911392405063291\n",
      "Entertainment;Brain Games : 0.0007911392405063291\n",
      "Board;Brain Games : 0.0007911392405063291\n",
      "Parenting;Music & Video : 0.000678119349005425\n",
      "Educational;Brain Games : 0.000678119349005425\n",
      "Casual;Creativity : 0.000678119349005425\n",
      "Art & Design;Creativity : 0.000678119349005425\n",
      "Education;Pretend Play : 0.0005650994575045208\n",
      "Role Playing;Pretend Play : 0.0004520795660036166\n",
      "Education;Creativity : 0.0004520795660036166\n",
      "Role Playing;Action & Adventure : 0.0003390596745027125\n",
      "Puzzle;Action & Adventure : 0.0003390596745027125\n",
      "Entertainment;Creativity : 0.0003390596745027125\n",
      "Entertainment;Action & Adventure : 0.0003390596745027125\n",
      "Educational;Creativity : 0.0003390596745027125\n",
      "Educational;Action & Adventure : 0.0003390596745027125\n",
      "Education;Music & Video : 0.0003390596745027125\n",
      "Education;Brain Games : 0.0003390596745027125\n",
      "Education;Action & Adventure : 0.0003390596745027125\n",
      "Adventure;Action & Adventure : 0.0003390596745027125\n",
      "Video Players & Editors;Music & Video : 0.0002260397830018083\n",
      "Sports;Action & Adventure : 0.0002260397830018083\n",
      "Simulation;Pretend Play : 0.0002260397830018083\n",
      "Puzzle;Creativity : 0.0002260397830018083\n",
      "Music;Music & Video : 0.0002260397830018083\n",
      "Entertainment;Pretend Play : 0.0002260397830018083\n",
      "Casual;Education : 0.0002260397830018083\n",
      "Board;Action & Adventure : 0.0002260397830018083\n",
      "Video Players & Editors;Creativity : 0.00011301989150090416\n",
      "Trivia;Education : 0.00011301989150090416\n",
      "Travel & Local;Action & Adventure : 0.00011301989150090416\n",
      "Tools;Education : 0.00011301989150090416\n",
      "Strategy;Education : 0.00011301989150090416\n",
      "Strategy;Creativity : 0.00011301989150090416\n",
      "Strategy;Action & Adventure : 0.00011301989150090416\n",
      "Simulation;Education : 0.00011301989150090416\n",
      "Role Playing;Brain Games : 0.00011301989150090416\n",
      "Racing;Pretend Play : 0.00011301989150090416\n",
      "Puzzle;Education : 0.00011301989150090416\n",
      "Parenting;Brain Games : 0.00011301989150090416\n",
      "Music & Audio;Music & Video : 0.00011301989150090416\n",
      "Lifestyle;Pretend Play : 0.00011301989150090416\n",
      "Lifestyle;Education : 0.00011301989150090416\n",
      "Health & Fitness;Education : 0.00011301989150090416\n",
      "Health & Fitness;Action & Adventure : 0.00011301989150090416\n",
      "Entertainment;Education : 0.00011301989150090416\n",
      "Communication;Creativity : 0.00011301989150090416\n",
      "Comics;Creativity : 0.00011301989150090416\n",
      "Casual;Music & Video : 0.00011301989150090416\n",
      "Card;Action & Adventure : 0.00011301989150090416\n",
      "Books & Reference;Education : 0.00011301989150090416\n",
      "Art & Design;Pretend Play : 0.00011301989150090416\n",
      "Art & Design;Action & Adventure : 0.00011301989150090416\n",
      "Arcade;Pretend Play : 0.00011301989150090416\n",
      "Adventure;Education : 0.00011301989150090416\n"
     ]
    }
   ],
   "source": [
    "display_table(playstore_final, 9)"
   ]
  },
  {
   "cell_type": "markdown",
   "metadata": {},
   "source": [
    "From looking at the Google Play dataset, we can see that the genres are a lot more broad. It also appears that apps on the Google Play store are more varied in general. Given that we know that games and entertainment apps constitute 2/3rds of Apple Store apps, let's add up the precentage of these comparables categories in the Google Play dataset.\n",
    "\n",
    "- Entertainment: 0.06\n",
    "- Action: 0.03\n",
    "- Simulation: 0.02\n",
    "- Arcade: 0.02\n",
    "- Casual: 0.02\n",
    "- Puzzle: 0.01\n",
    "- Racing: 0.01\n",
    "- Role Playing: 0.01\n",
    "- Adventure: 0.01\n",
    "- Card: 0.005\n",
    "- Trivia: 0.004\n",
    "- Casino: 0.004\n",
    "- Board: 0.004\n",
    "\n",
    "There are many other related categories below this, but the percentage gets very small very quickly. But with the above apps, we can see that over 20% of the apps are games and entertainment. This is a much smaller percentage than what we have in the Apple Store dataset, but it's stil lthe largest category in respect to the rest of the dataset. \n",
    "\n",
    "However, games make up a much smaller proportion of entertainment apps in the Google Play store than they do in the Apple Store, whereas apps more broadly categorized as 'entertainment' are comparable: they make up 7.8% of the Apple Store dataset and 6% of the Google Play Store dataset. "
   ]
  },
  {
   "cell_type": "code",
   "execution_count": 129,
   "metadata": {},
   "outputs": [
    {
     "name": "stdout",
     "output_type": "stream",
     "text": [
      "['App', 'Category', 'Rating', 'Reviews', 'Size', 'Installs', 'Type', 'Price', 'Content Rating', 'Genres', 'Last Updated', 'Current Ver', 'Android Ver']\n",
      "['id', 'track_name', 'size_bytes', 'currency', 'price', 'rating_count_tot', 'rating_count_ver', 'user_rating', 'user_rating_ver', 'ver', 'cont_rating', 'prime_genre', 'sup_devices.num', 'ipadSc_urls.num', 'lang.num', 'vpp_lic']\n"
     ]
    }
   ],
   "source": [
    "print(playstore_header)\n",
    "print(appstore_header)"
   ]
  },
  {
   "cell_type": "code",
   "execution_count": 134,
   "metadata": {},
   "outputs": [
    {
     "name": "stdout",
     "output_type": "stream",
     "text": [
      "Social Networking : 71548.34905660378\n",
      "Photo & Video : 28441.54375\n",
      "Games : 22886.36709539121\n",
      "Music : 57326.530303030304\n",
      "Reference : 79350.4705882353\n",
      "Health & Fitness : 23298.015384615384\n",
      "Weather : 52279.892857142855\n",
      "Utilities : 19156.493670886077\n",
      "Travel : 28243.8\n",
      "Shopping : 27230.734939759037\n",
      "News : 21248.023255813954\n",
      "Navigation : 86090.33333333333\n",
      "Lifestyle : 16815.48\n",
      "Entertainment : 14195.358565737051\n",
      "Food & Drink : 33333.92307692308\n",
      "Sports : 23008.898550724636\n",
      "Book : 46384.916666666664\n",
      "Finance : 32367.02857142857\n",
      "Education : 7003.983050847458\n",
      "Productivity : 21028.410714285714\n",
      "Business : 7491.117647058823\n",
      "Catalogs : 4004.0\n",
      "Medical : 612.0\n"
     ]
    }
   ],
   "source": [
    "genres_appstore = freq_table(appstore_final, 11)\n",
    "\n",
    "for genre in genres_appstore:\n",
    "    total = 0\n",
    "    len_genre = 0\n",
    "    for app in appstore_final:\n",
    "        app_genre = app[11]\n",
    "        if app_genre == genre:\n",
    "            num_ratings = float(app[5])\n",
    "            total += num_ratings\n",
    "            len_genre += 1\n",
    "    avg_num_ratings = total / len_genre\n",
    "    print(genre, ':', avg_num_ratings)\n",
    "        "
   ]
  },
  {
   "cell_type": "markdown",
   "metadata": {},
   "source": [
    "We can see that Social Networking and Navigation apps have high numbers of installs; however, those are also categories that tend to be dominated by a small number of apps. Social networking apps require the building of a community--nobody is going to just download it and use it without some effort going into it. Since we would of course like to maximize our profit margins with less effort required, we will steer clear of that category.\n",
    "\n",
    "Similarly, navigation apps require quite a lot of work, and we are not prepared to onboard the experts needed to make such an app a reality.\n",
    "\n",
    "It does look like reference apps have a lot of reviews on average as well. Compared to social networking and navigation, this sounds a lot more digestable for our purposes. Given that the average number of reviews for a reference ap is just under 80,000, let's investigate apps with 100,000 + reviews, so we can get an idea of the upper echelon of these apps and see what we are 'competing' with."
   ]
  },
  {
   "cell_type": "code",
   "execution_count": 152,
   "metadata": {},
   "outputs": [
    {
     "name": "stdout",
     "output_type": "stream",
     "text": [
      "['282935706', 'Bible', '92774400', 'USD', '0.0', '985920', '5320', '4.5', '5.0', '7.5.1', '4+', 'Reference', '37', '5', '45', '1']\n",
      "['308750436', 'Dictionary.com Dictionary & Thesaurus', '111275008', 'USD', '0.0', '200047', '177', '4.0', '4.0', '7.1.3', '4+', 'Reference', '37', '0', '1', '1']\n"
     ]
    }
   ],
   "source": [
    "for app in appstore_final:\n",
    "    if app[11] == 'Reference' and int(app[5]) >= 100000:\n",
    "        print(app)"
   ]
  },
  {
   "cell_type": "markdown",
   "metadata": {},
   "source": [
    "We can see that the Bible and the Dictionary.com app are drastically inflating our numbers here. The Bible has nearly 100 million reviews, and Dictionary.com has even more than that. Let's now look at reference apps with at least 10,000 reviews instead, to see if there could still be some value here."
   ]
  },
  {
   "cell_type": "code",
   "execution_count": 156,
   "metadata": {},
   "outputs": [
    {
     "name": "stdout",
     "output_type": "stream",
     "text": [
      "['282935706', 'Bible', '92774400', 'USD', '0.0', '985920', '5320', '4.5', '5.0', '7.5.1', '4+', 'Reference', '37', '5', '45', '1']\n",
      "['308750436', 'Dictionary.com Dictionary & Thesaurus', '111275008', 'USD', '0.0', '200047', '177', '4.0', '4.0', '7.1.3', '4+', 'Reference', '37', '0', '1', '1']\n",
      "['364740856', 'Dictionary.com Dictionary & Thesaurus for iPad', '165748736', 'USD', '0.0', '54175', '10176', '4.5', '4.5', '4.0', '4+', 'Reference', '24', '5', '9', '1']\n",
      "['414706506', 'Google Translate', '65281024', 'USD', '0.0', '26786', '27', '3.5', '4.5', '5.10.0', '4+', 'Reference', '37', '5', '59', '1']\n",
      "['388389451', 'Muslim Pro: Ramadan 2017 Prayer Times, Azan, Quran', '100551680', 'USD', '0.0', '18418', '706', '4.5', '5.0', '9.2.1', '4+', 'Reference', '37', '5', '16', '1']\n",
      "['1130829481', 'New Furniture Mods - Pocket Wiki & Game Tools for Minecraft PC Edition', '52959232', 'USD', '0.0', '17588', '17588', '4.5', '4.5', '1.0', '4+', 'Reference', '38', '3', '2', '1']\n",
      "['399452287', 'Merriam-Webster Dictionary', '155593728', 'USD', '0.0', '16849', '1125', '4.5', '4.5', '4.1', '4+', 'Reference', '38', '1', '12', '1']\n",
      "['475772902', 'Night Sky', '596499456', 'USD', '0.0', '12122', '60', '4.5', '4.5', '4.4.1', '4+', 'Reference', '37', '5', '29', '1']\n"
     ]
    }
   ],
   "source": [
    "for app in appstore_final:\n",
    "    if app[11] == 'Reference' and int(app[5]) >= 10000:\n",
    "        print(app)"
   ]
  },
  {
   "cell_type": "markdown",
   "metadata": {},
   "source": [
    "The short answer is maybe. It is certainly possible we could come up with a reference app that would do well for us, but given that so few apps dominate the reviews for this category, and given that we do not already have a product in production, we can liekly do better than this with less effort."
   ]
  },
  {
   "cell_type": "markdown",
   "metadata": {},
   "source": [
    "While not containing the highest number of ratings, there are a decent quantity of reviews for video and photo editors that are less well known. Let's take a look at those apps who have at least the 'average' number of ratings:"
   ]
  },
  {
   "cell_type": "code",
   "execution_count": 157,
   "metadata": {},
   "outputs": [
    {
     "name": "stdout",
     "output_type": "stream",
     "text": [
      "['389801252', 'Instagram', '113954816', 'USD', '0.0', '2161558', '1289', '4.5', '4.0', '10.23', '12+', 'Photo & Video', '37', '0', '29', '1']\n",
      "['447188370', 'Snapchat', '203038720', 'USD', '0.0', '323905', '576', '2.5', '3.0', '10.9.2.0', '12+', 'Photo & Video', '37', '0', '22', '1']\n",
      "['544007664', 'YouTube - Watch Videos, Music, and Live Streams', '124673024', 'USD', '0.0', '278166', '0', '2.5', '0.0', '12.21', '17+', 'Photo & Video', '37', '4', '34', '1']\n",
      "['448639966', 'Pic Collage - Picture Editor & Photo Collage Maker', '109210624', 'USD', '0.0', '123433', '1521', '5.0', '5.0', '7.12.17', '12+', 'Photo & Video', '37', '5', '12', '1']\n",
      "['844570015', 'Funimate video editor: add cool effects to videos', '104902656', 'USD', '0.0', '123268', '64', '4.5', '4.5', '6.5.7', '12+', 'Photo & Video', '37', '4', '7', '1']\n",
      "['835599320', 'musical.ly - your video social network', '173910016', 'USD', '0.0', '105429', '0', '4.5', '0.0', '5.7.3', '12+', 'Photo & Video', '37', '0', '21', '1']\n",
      "['530957474', 'Photo Collage Maker & Photo Editor - Live Collage', '94266368', 'USD', '0.0', '93781', '0', '4.5', '0.0', '5.5.0', '4+', 'Photo & Video', '37', '5', '4', '1']\n",
      "['592447445', 'Vine Camera', '51642368', 'USD', '0.0', '90355', '150', '3.5', '1.5', '6.0.2', '4+', 'Photo & Video', '37', '0', '25', '1']\n",
      "['962194608', 'Google Photos - unlimited photo and video storage', '160215040', 'USD', '0.0', '88742', '1145', '5.0', '5.0', '2.17.0', '4+', 'Photo & Video', '37', '5', '75', '1']\n",
      "['512727332', 'Flipagram', '84792320', 'USD', '0.0', '79905', '324', '4.5', '4.5', '8.19.2', '12+', 'Photo & Video', '37', '5', '36', '1']\n",
      "['785638228', 'Mixgram - Picture Collage Maker - Pic Photo Editor', '90218496', 'USD', '0.0', '54282', '1440', '4.5', '4.5', '4.2.2', '4+', 'Photo & Video', '37', '5', '16', '1']\n",
      "['309465525', 'Shutterfly: Prints, Photo Books, Cards Made Easy', '122315776', 'USD', '0.0', '51427', '874', '4.0', '5.0', '7.7.0', '4+', 'Photo & Video', '37', '5', '1', '1']\n",
      "['509987785', 'Pic Jointer – Photo Collage, Camera Effects Editor', '81019904', 'USD', '0.0', '51330', '58', '4.5', '4.5', '5.0', '4+', 'Photo & Video', '37', '5', '7', '1']\n",
      "['940508574', 'Color Pop Effects - Photo Editor & Picture Editing', '78735360', 'USD', '0.0', '45320', '7896', '4.5', '4.5', '5.3', '4+', 'Photo & Video', '37', '3', '1', '1']\n",
      "['543577420', 'Photo Grid - photo collage maker & photo editor', '112073728', 'USD', '0.0', '40531', '10', '4.5', '4.5', '6.1.80', '4+', 'Photo & Video', '37', '5', '22', '1']\n",
      "['307354030', 'iSwap Faces LITE', '30796800', 'USD', '0.0', '39722', '0', '3.0', '0.0', '5.1', '4+', 'Photo & Video', '37', '5', '1', '1']\n",
      "['608188610', 'MOLDIV - Photo Editor, Collage & Beauty Camera', '120056832', 'USD', '0.0', '39501', '4851', '4.5', '4.5', '3.2.1', '4+', 'Photo & Video', '37', '5', '18', '1']\n",
      "['527445936', 'Photo Editor by Aviary', '36269056', 'USD', '0.0', '39501', '741', '4.5', '5.0', '4.6.1', '12+', 'Photo & Video', '37', '5', '23', '1']\n",
      "['441457218', 'Photo Lab: Picture Editor, effects & fun face app', '102964224', 'USD', '0.0', '34585', '34', '4.5', '4.5', '2.8.24', '12+', 'Photo & Video', '37', '5', '10', '1']\n",
      "['799406905', 'Rookie Cam - Photo Editor & Filter Camera', '110953472', 'USD', '0.0', '33921', '2404', '4.5', '4.5', '3.2', '4+', 'Photo & Video', '37', '5', '18', '1']\n",
      "['457517348', 'FotoRus -Camera & Photo Editor & Pic Collage Maker', '119500800', 'USD', '0.0', '32558', '147', '5.0', '4.5', '7.0.4', '4+', 'Photo & Video', '38', '5', '3', '1']\n",
      "['587366035', 'PicsArt Photo Studio: Collage Maker & Pic Editor', '124726272', 'USD', '0.0', '29078', '6', '4.5', '4.0', '9.8', '12+', 'Photo & Video', '37', '5', '21', '1']\n",
      "['694164275', 'Quik – GoPro Video Editor to edit clips with music', '211343360', 'USD', '0.0', '28654', '21', '4.5', '4.5', '4.0.1', '4+', 'Photo & Video', '37', '5', '15', '1']\n"
     ]
    }
   ],
   "source": [
    "for app in appstore_final:\n",
    "    if app[11] == 'Photo & Video' and int(app[5]) >= 28441:\n",
    "        print(app)"
   ]
  },
  {
   "cell_type": "markdown",
   "metadata": {},
   "source": [
    "The biggest players in this category are common apps such as Instagram, Youtube, Snapchat and Google Photos, but there are a lot of lesser ubiqitous apps that still seem very popular. Taking photos is very popular in the age of smart phones and selfies, so this category seems like a reasonable approach. These types of apps are common, but not as saturarted like games and entertainment are, and they can provide a practical use. Before moving into development our app, we would want to find our \"niche\" in the photo and video editing space, but that is something we can investigate.\n",
    "\n",
    "Before we get ahead of ourselves, though, let's also check the Google Play store. If we don't see similar results on the Play Store, we may want to rethink our approach--after all, we will be developing our app for Android devices first, so if it doesn't pass the 'Play Test' we won't even begin development on an iOS version."
   ]
  },
  {
   "cell_type": "code",
   "execution_count": 141,
   "metadata": {},
   "outputs": [
    {
     "name": "stdout",
     "output_type": "stream",
     "text": [
      "1,000,000+ : 0.1575497287522604\n",
      "100,000+ : 0.11539330922242315\n",
      "10,000,000+ : 0.10567359855334539\n",
      "10,000+ : 0.10194394213381555\n",
      "1,000+ : 0.0839737793851718\n",
      "100+ : 0.06928119349005425\n",
      "5,000,000+ : 0.06826401446654612\n",
      "500,000+ : 0.05560578661844485\n",
      "50,000+ : 0.04769439421338156\n",
      "5,000+ : 0.04486889692585895\n",
      "10+ : 0.035375226039783\n",
      "500+ : 0.03243670886075949\n",
      "50,000,000+ : 0.022830018083182642\n",
      "100,000,000+ : 0.021360759493670885\n",
      "50+ : 0.019213381555153706\n",
      "5+ : 0.007911392405063292\n",
      "1+ : 0.005085895117540687\n",
      "500,000,000+ : 0.0027124773960217\n",
      "1,000,000,000+ : 0.0022603978300180833\n",
      "0+ : 0.0004520795660036166\n",
      "0 : 0.00011301989150090416\n"
     ]
    }
   ],
   "source": [
    "display_table(playstore_final, 5) # the Installs columns"
   ]
  },
  {
   "cell_type": "markdown",
   "metadata": {},
   "source": [
    "The above information from the Google Play dataset shows us the number of installs, which is information we didn't have in the Apple Store dataset. However, we do not have very precise numbers. Even so, we don't really require that for our purposes. We will assume the low end of each installation category; for example, if an app has 5,000,000+ installs, we will assume 5,000,000; if an app has 1,000 + installs, we will assume 1,000."
   ]
  },
  {
   "cell_type": "code",
   "execution_count": 158,
   "metadata": {},
   "outputs": [
    {
     "name": "stdout",
     "output_type": "stream",
     "text": [
      "Art & Design : 2122850.9433962265\n",
      "Art & Design;Creativity : 285000.0\n",
      "Auto & Vehicles : 647317.8170731707\n",
      "Beauty : 513151.88679245283\n",
      "Books & Reference : 8814199.78835979\n",
      "Business : 1712290.1474201474\n",
      "Comics : 847380.1886792453\n",
      "Comics;Creativity : 50000.0\n",
      "Communication : 38590581.08741259\n",
      "Dating : 854028.8303030303\n",
      "Education : 550185.4430379746\n",
      "Education;Creativity : 2875000.0\n",
      "Education;Education : 4759517.0\n",
      "Education;Pretend Play : 1800000.0\n",
      "Education;Brain Games : 5333333.333333333\n",
      "Entertainment : 5602792.775092937\n",
      "Entertainment;Brain Games : 3314285.714285714\n",
      "Entertainment;Creativity : 4000000.0\n",
      "Entertainment;Music & Video : 6413333.333333333\n",
      "Events : 253542.22222222222\n",
      "Finance : 1387692.475609756\n",
      "Food & Drink : 1924897.7363636363\n",
      "Health & Fitness : 4188821.9853479853\n",
      "House & Home : 1360598.042253521\n",
      "Libraries & Demo : 638503.734939759\n",
      "Lifestyle : 1421219.9096209912\n",
      "Lifestyle;Pretend Play : 10000000.0\n",
      "Card : 3815462.5\n",
      "Arcade : 23028171.411042944\n",
      "Puzzle : 8302861.91\n",
      "Racing : 15910645.681818182\n",
      "Sports : 4611701.5784313725\n",
      "Casual : 19569221.602564104\n",
      "Simulation : 3475484.08839779\n",
      "Adventure : 4158764.745762712\n",
      "Trivia : 3475712.7027027025\n",
      "Action : 12467105.620437955\n",
      "Word : 9094458.695652174\n",
      "Role Playing : 3965645.421686747\n",
      "Strategy : 11199902.530864198\n",
      "Board : 4759209.117647059\n",
      "Music : 9445583.333333334\n",
      "Action;Action & Adventure : 5888888.888888889\n",
      "Casual;Brain Games : 1425916.6666666667\n",
      "Educational;Creativity : 2333333.3333333335\n",
      "Puzzle;Brain Games : 9280666.666666666\n",
      "Educational;Education : 1737143.142857143\n",
      "Casual;Pretend Play : 6957142.857142857\n",
      "Educational;Brain Games : 4433333.333333333\n",
      "Art & Design;Pretend Play : 500000.0\n",
      "Educational;Pretend Play : 9375000.0\n",
      "Entertainment;Education : 1000000.0\n",
      "Casual;Education : 1000000.0\n",
      "Casual;Creativity : 5333333.333333333\n",
      "Casual;Action & Adventure : 12916666.666666666\n",
      "Music;Music & Video : 5050000.0\n",
      "Arcade;Pretend Play : 1000000.0\n",
      "Adventure;Action & Adventure : 35333333.333333336\n",
      "Role Playing;Action & Adventure : 7000000.0\n",
      "Simulation;Pretend Play : 550000.0\n",
      "Puzzle;Creativity : 750000.0\n",
      "Simulation;Action & Adventure : 4857142.857142857\n",
      "Racing;Action & Adventure : 8816666.666666666\n",
      "Sports;Action & Adventure : 5050000.0\n",
      "Educational;Action & Adventure : 17016666.666666668\n",
      "Arcade;Action & Adventure : 3190909.1818181816\n",
      "Entertainment;Action & Adventure : 2333333.3333333335\n",
      "Art & Design;Action & Adventure : 100000.0\n",
      "Puzzle;Action & Adventure : 18366666.666666668\n",
      "Education;Action & Adventure : 1000000.0\n",
      "Strategy;Action & Adventure : 1000000.0\n",
      "Music & Audio;Music & Video : 500000.0\n",
      "Health & Fitness;Education : 100000.0\n",
      "Board;Action & Adventure : 3000000.0\n",
      "Board;Brain Games : 407142.85714285716\n",
      "Casual;Music & Video : 10000000.0\n",
      "Education;Music & Video : 2033333.3333333333\n",
      "Role Playing;Pretend Play : 5275000.0\n",
      "Entertainment;Pretend Play : 3000000.0\n",
      "Medical : 120550.61980830671\n",
      "Social : 23253652.127118643\n",
      "Shopping : 7036877.311557789\n",
      "Photography : 17840110.40229885\n",
      "Travel & Local : 14051476.145631067\n",
      "Travel & Local;Action & Adventure : 100000.0\n",
      "Tools : 10831363.41900937\n",
      "Tools;Education : 10000000.0\n",
      "Personalization : 5201482.6122448975\n",
      "Productivity : 16787331.344927534\n",
      "Parenting : 467977.5\n",
      "Parenting;Music & Video : 1118333.3333333333\n",
      "Parenting;Education : 452857.14285714284\n",
      "Parenting;Brain Games : 1000000.0\n",
      "Weather : 5145550.285714285\n",
      "Video Players & Editors : 24947335.796178345\n",
      "Video Players & Editors;Music & Video : 7500000.0\n",
      "Video Players & Editors;Creativity : 5000000.0\n",
      "News & Magazines : 9549178.467741935\n",
      "Maps & Navigation : 4049274.6341463416\n",
      "Health & Fitness;Action & Adventure : 1000000.0\n",
      "Educational : 411184.8484848485\n",
      "Casino : 3520421.621621622\n",
      "Trivia;Education : 100.0\n",
      "Lifestyle;Education : 100000.0\n",
      "Card;Action & Adventure : 10000000.0\n",
      "Books & Reference;Education : 1000.0\n",
      "Simulation;Education : 500.0\n",
      "Puzzle;Education : 100000.0\n",
      "Adventure;Education : 10000000.0\n",
      "Role Playing;Brain Games : 10000000.0\n",
      "Strategy;Education : 500000.0\n",
      "Racing;Pretend Play : 1000000.0\n",
      "Communication;Creativity : 500000.0\n",
      "Strategy;Creativity : 1000000.0\n"
     ]
    }
   ],
   "source": [
    "genres_playstore = freq_table(playstore_final, 9)\n",
    "\n",
    "for genre in genres_playstore:\n",
    "    total = 0\n",
    "    len_genre = 0\n",
    "    for app in playstore_final:\n",
    "        app_genre = app[9]\n",
    "        if app_genre == genre:\n",
    "            num_installs = app[5]\n",
    "            num_installs = num_installs.replace(',', '')\n",
    "            num_installs = num_installs.replace('+', '')\n",
    "            total += float(num_installs)\n",
    "            len_genre += 1\n",
    "    avg_num_ratings = total / len_genre\n",
    "    print(genre, ':', avg_num_ratings)\n",
    "        "
   ]
  },
  {
   "cell_type": "markdown",
   "metadata": {},
   "source": [
    "There isn't a clear Photo & Video category here like in the Apple Store, but the 'Photography' category appears comparable. There are a high number of average installs, so let's look at what sorts of apps exist in this space."
   ]
  },
  {
   "cell_type": "code",
   "execution_count": 162,
   "metadata": {},
   "outputs": [
    {
     "name": "stdout",
     "output_type": "stream",
     "text": [
      "['TouchNote: Cards & Gifts', 'PHOTOGRAPHY', '4.1', '19232', '28M', '1,000,000+', 'Free', '0', 'Everyone', 'Photography', 'August 6, 2018', '7.4.2', '4.4 and up']\n",
      "['FreePrints – Free Photos Delivered', 'PHOTOGRAPHY', '4.8', '109500', '37M', '1,000,000+', 'Free', '0', 'Everyone', 'Photography', 'August 2, 2018', '2.18.2', '4.1 and up']\n",
      "['Groovebook Photo Books & Gifts', 'PHOTOGRAPHY', '4.0', '21159', '36M', '500,000+', 'Free', '0', 'Everyone', 'Photography', 'January 31, 2018', '2.1.9', '4.0.3 and up']\n",
      "['Moony Lab - Print Photos, Books & Magnets ™', 'PHOTOGRAPHY', '4.7', '1320', '9.5M', '50,000+', 'Free', '0', 'Everyone', 'Photography', 'June 27, 2018', '2.1.9', '4.1 and up']\n",
      "['LALALAB prints your photos, photobooks and magnets', 'PHOTOGRAPHY', '4.7', '50424', '82M', '1,000,000+', 'Free', '0', 'Everyone', 'Photography', 'August 2, 2018', '584', '4.1 and up']\n",
      "['Snapfish', 'PHOTOGRAPHY', '4.1', '32398', '28M', '1,000,000+', 'Free', '0', 'Everyone', 'Photography', 'August 1, 2018', '9.6.4', '4.4 and up']\n",
      "['Motorola Camera', 'PHOTOGRAPHY', '3.6', '219745', 'Varies with device', '50,000,000+', 'Free', '0', 'Everyone', 'Photography', 'January 25, 2016', 'Varies with device', 'Varies with device']\n",
      "['HD Camera - Best Cam with filters & panorama', 'PHOTOGRAPHY', '4.5', '38953', '9.7M', '5,000,000+', 'Free', '0', 'Everyone', 'Photography', 'July 26, 2018', '2.2.4', '4.2 and up']\n",
      "['LightX Photo Editor & Photo Effects', 'PHOTOGRAPHY', '4.7', '259450', '17M', '10,000,000+', 'Free', '0', 'Everyone', 'Photography', 'May 24, 2018', '1.0.4', '4.1 and up']\n",
      "['Sweet Snap - live filter, Selfie photo edit', 'PHOTOGRAPHY', '4.5', '123029', 'Varies with device', '10,000,000+', 'Free', '0', 'Everyone', 'Photography', 'August 2, 2018', 'Varies with device', '4.0.3 and up']\n",
      "['HD Camera - Quick Snap Photo & Video', 'PHOTOGRAPHY', '4.5', '21841', '7.7M', '1,000,000+', 'Free', '0', 'Everyone', 'Photography', 'July 24, 2018', '1.6.4', '4.2 and up']\n",
      "['B612 - Beauty & Filter Camera', 'PHOTOGRAPHY', '4.4', '5282578', 'Varies with device', '100,000,000+', 'Free', '0', 'Everyone', 'Photography', 'July 30, 2018', '7.6.5', '4.3 and up']\n",
      "['Waterfall Photo Frames', 'PHOTOGRAPHY', '4.5', '10349', '11M', '1,000,000+', 'Free', '0', 'Everyone', 'Photography', 'July 29, 2017', '1.6.0', '2.3 and up']\n",
      "['Photo frame', 'PHOTOGRAPHY', '4.5', '859', '21M', '100,000+', 'Free', '0', 'Everyone', 'Photography', 'July 18, 2018', '1.5.1', '4.0.3 and up']\n",
      "['Huji Cam', 'PHOTOGRAPHY', '4.4', '40289', '19M', '5,000,000+', 'Free', '0', 'Everyone', 'Photography', 'July 11, 2018', '2.2', '5.0 and up']\n",
      "['Unicorn Photo', 'PHOTOGRAPHY', '3.7', '3362', 'Varies with device', '1,000,000+', 'Free', '0', 'Everyone', 'Photography', 'May 22, 2018', 'Varies with device', '4.0 and up']\n",
      "['HD Camera', 'PHOTOGRAPHY', '4.3', '49680', '8.7M', '5,000,000+', 'Free', '0', 'Everyone', 'Photography', 'July 11, 2018', '1.8.5', '4.2 and up']\n",
      "['Makeup Editor -Beauty Photo Editor & Selfie Camera', 'PHOTOGRAPHY', '4.5', '3378', '30M', '1,000,000+', 'Free', '0', 'Mature 17+', 'Photography', 'July 25, 2018', '1.7', '4.1 and up']\n",
      "['Makeup Photo Editor: Makeup Camera & Makeup Editor', 'PHOTOGRAPHY', '4.4', '10525', '25M', '1,000,000+', 'Free', '0', 'Everyone', 'Photography', 'July 27, 2018', '8.9.9', '4.0 and up']\n",
      "['Moto Photo Editor', 'PHOTOGRAPHY', '3.3', '3492', '17M', '5,000,000+', 'Free', '0', 'Everyone', 'Photography', 'June 14, 2018', '1.5.3.8', '7.0 and up']\n",
      "['InstaBeauty -Makeup Selfie Cam', 'PHOTOGRAPHY', '4.3', '654419', 'Varies with device', '50,000,000+', 'Free', '0', 'Everyone', 'Photography', 'February 1, 2018', 'Varies with device', '4.0.3 and up']\n",
      "['Garden Photo Frames - Garden Photo Editor', 'PHOTOGRAPHY', '4.4', '1864', '13M', '500,000+', 'Free', '0', 'Everyone', 'Photography', 'May 3, 2018', '22.0', '4.0.3 and up']\n",
      "['Photo Frame', 'PHOTOGRAPHY', '4.5', '74476', '23M', '10,000,000+', 'Free', '0', 'Everyone', 'Photography', 'June 19, 2018', '1.6', '4.0 and up']\n",
      "['Selfie Camera - Photo Editor & Filter & Sticker', 'PHOTOGRAPHY', '4.2', '401820', 'Varies with device', '50,000,000+', 'Free', '0', 'Everyone', 'Photography', 'April 27, 2018', 'Varies with device', 'Varies with device']\n",
      "['Sweet Snap Lite - live filter, Selfie photo editor', 'PHOTOGRAPHY', '4.5', '3116', '22M', '500,000+', 'Free', '0', 'Everyone', 'Photography', 'August 3, 2018', '2.15.180', '4.0.3 and up']\n",
      "['Selfie Camera: Beauty Camera, Photo Editor,Collage', 'PHOTOGRAPHY', '4.7', '31985', '9.1M', '1,000,000+', 'Free', '0', 'Everyone', 'Photography', 'August 6, 2018', '1.7.14', '4.2 and up']\n",
      "['Night Photo Frame', 'PHOTOGRAPHY', '4.5', '4400', '8.3M', '1,000,000+', 'Free', '0', 'Everyone', 'Photography', 'July 28, 2018', '2.0.1', '4.0.3 and up']\n",
      "['YouCam Makeup - Magic Selfie Makeovers', 'PHOTOGRAPHY', '4.6', '3337956', 'Varies with device', '100,000,000+', 'Free', '0', 'Everyone', 'Photography', 'August 6, 2018', 'Varies with device', 'Varies with device']\n",
      "['Selfie Photo Editor', 'PHOTOGRAPHY', '4.6', '11677', '19M', '1,000,000+', 'Free', '0', 'Everyone', 'Photography', 'July 5, 2018', '1.0.3', '4.4 and up']\n",
      "['ASUS Gallery', 'PHOTOGRAPHY', '4.3', '125259', 'Varies with device', '50,000,000+', 'Free', '0', 'Everyone', 'Photography', 'August 2, 2018', 'Varies with device', 'Varies with device']\n",
      "['Kids Photo Frames', 'PHOTOGRAPHY', '4.6', '15700', '10M', '1,000,000+', 'Free', '0', 'Everyone', 'Photography', 'July 7, 2018', '2.3', '4.0.3 and up']\n",
      "['Pencil Photo Sketch-Sketching Drawing Photo Editor', 'PHOTOGRAPHY', '4.4', '16523', 'Varies with device', '1,000,000+', 'Free', '0', 'Everyone', 'Photography', 'July 30, 2018', '1.2.31', '4.1 and up']\n",
      "['Pretty Makeup, Beauty Photo Editor & Snappy Camera', 'PHOTOGRAPHY', '4.5', '26361', '29M', '5,000,000+', 'Free', '0', 'Everyone', 'Photography', 'July 25, 2018', '5.3', '4.1 and up']\n",
      "['Photo Collage - Layout Editor', 'PHOTOGRAPHY', '4.5', '285788', '46M', '10,000,000+', 'Free', '0', 'Everyone', 'Photography', 'December 4, 2017', '1.8.0.170824_9', '5.0 - 8.0']\n",
      "['DSLR Camera Hd Ultra Professional', 'PHOTOGRAPHY', '4.2', '4410', '4.5M', '1,000,000+', 'Free', '0', 'Everyone', 'Photography', 'June 27, 2018', '4.1', '4.0.3 and up']\n",
      "['Snap Cat Face Camera', 'PHOTOGRAPHY', '4.0', '5855', '4.9M', '1,000,000+', 'Free', '0', 'Everyone', 'Photography', 'July 12, 2018', '1.6', '2.3 and up']\n",
      "['Silent Camera [High Quality]', 'PHOTOGRAPHY', '4.4', '47090', 'Varies with device', '5,000,000+', 'Free', '0', 'Everyone', 'Photography', 'July 28, 2018', 'Varies with device', 'Varies with device']\n",
      "['Sweet Camera - Selfie Filters, Beauty Camera', 'PHOTOGRAPHY', '4.7', '233039', '24M', '10,000,000+', 'Free', '0', 'Everyone', 'Photography', 'July 28, 2018', '1.5.3', '4.4 and up']\n",
      "['Photo Frames', 'PHOTOGRAPHY', '4.3', '28578', '23M', '10,000,000+', 'Free', '0', 'Everyone', 'Photography', 'July 28, 2018', '6.21', '4.0 and up']\n",
      "['Sweet Selfie - selfie camera, beauty cam, photo edit', 'PHOTOGRAPHY', '4.6', '1159058', '25M', '100,000,000+', 'Free', '0', 'Everyone', 'Photography', 'August 3, 2018', '2.73.672', '4.0.3 and up']\n",
      "['Candy selfie - photo editor, live filter camera', 'PHOTOGRAPHY', '4.4', '53421', '26M', '10,000,000+', 'Free', '0', 'Everyone', 'Photography', 'August 6, 2018', '2.74.685', '4.0.3 and up']\n",
      "['Open Camera', 'PHOTOGRAPHY', '4.3', '116880', '2.0M', '10,000,000+', 'Free', '0', 'Everyone', 'Photography', 'April 23, 2018', '1.43.3', '4.0.3 and up']\n",
      "['Beauty Makeup – Photo Makeover', 'PHOTOGRAPHY', '4.3', '21730', '19M', '1,000,000+', 'Free', '0', 'Everyone', 'Photography', 'May 23, 2018', '1.6.0', '4.0 and up']\n",
      "['Blur Image Background Editor (Blur Photo Editor)', 'PHOTOGRAPHY', '4.4', '62421', '9.6M', '5,000,000+', 'Free', '0', 'Everyone', 'Photography', 'July 28, 2018', '2.4', '4.1 and up']\n",
      "['Muzy - Share photos & collages', 'PHOTOGRAPHY', '4.4', '70189', '13M', '5,000,000+', 'Free', '0', 'Teen', 'Photography', 'August 11, 2015', '4.0.10', '4.0 and up']\n",
      "['QuickPic - Photo Gallery with Google Drive Support', 'PHOTOGRAPHY', '4.6', '847159', '4.2M', '10,000,000+', 'Free', '0', 'Everyone', 'Photography', 'November 10, 2017', '4.7.4', '4.0 and up']\n",
      "['Flickr', 'PHOTOGRAPHY', '4.3', '251951', '16M', '10,000,000+', 'Free', '0', 'Mature 17+', 'Photography', 'July 11, 2018', '4.7.3', '4.4 and up']\n",
      "['Camera for Android', 'PHOTOGRAPHY', '4.2', '240475', '9.5M', '10,000,000+', 'Free', '0', 'Everyone', 'Photography', 'November 22, 2017', '3.8', '4.0 and up']\n",
      "['Photo Mixer', 'PHOTOGRAPHY', '3.9', '55427', '6.6M', '10,000,000+', 'Free', '0', 'Everyone', 'Photography', 'March 25, 2016', '5.1', '2.3.3 and up']\n",
      "['Wondershare PowerCam', 'PHOTOGRAPHY', '4.2', '329160', '27M', '10,000,000+', 'Free', '0', 'Everyone', 'Photography', 'May 29, 2018', '3.1.8.180529', '2.3 and up']\n",
      "['love', 'PHOTOGRAPHY', '4.3', '42677', '22M', '1,000,000+', 'Free', '0', 'Everyone', 'Photography', 'June 15, 2018', '1.28', '4.0.3 and up']\n",
      "['KVAD Camera +: Selfie, Photo Filter, Grids', 'PHOTOGRAPHY', '4.1', '23440', '30M', '1,000,000+', 'Free', '0', 'Everyone', 'Photography', 'July 11, 2018', '1.8.2', '4.0 and up']\n",
      "['Camera51 - a smarter camera', 'PHOTOGRAPHY', '4.0', '29707', '18M', '1,000,000+', 'Free', '0', 'Everyone', 'Photography', 'February 10, 2015', '1.1.6', '4.0 and up']\n",
      "['InstaCam - Camera for Selfie', 'PHOTOGRAPHY', '4.0', '15098', '10.0M', '1,000,000+', 'Free', '0', 'Everyone', 'Photography', 'March 3, 2017', '1.43', '2.3 and up']\n",
      "['Sweet Camera', 'PHOTOGRAPHY', '4.4', '71898', '23M', '5,000,000+', 'Free', '0', 'Everyone', 'Photography', 'October 10, 2017', '6.1.7.100920', '4.0.3 and up']\n",
      "['RetroSelfie - Selfie Editor', 'PHOTOGRAPHY', '4.1', '106080', '35M', '10,000,000+', 'Free', '0', 'Everyone', 'Photography', 'June 27, 2018', '6.1.6', '4.1 and up']\n",
      "['Mega Photo', 'PHOTOGRAPHY', '4.2', '44941', '16M', '1,000,000+', 'Free', '0', 'Everyone', 'Photography', 'October 19, 2016', '1.6.2', '3.0 and up']\n",
      "['Blur Image Background', 'PHOTOGRAPHY', '3.9', '129272', '11M', '10,000,000+', 'Free', '0', 'Everyone', 'Photography', 'July 30, 2018', '1.32', '4.1 and up']\n",
      "['MIX by Camera360', 'PHOTOGRAPHY', '4.4', '111066', '74M', '5,000,000+', 'Free', '0', 'Everyone', 'Photography', 'August 3, 2018', '4.8.7', '4.0.3 and up']\n",
      "['Google Photos', 'PHOTOGRAPHY', '4.5', '10859051', 'Varies with device', '1,000,000,000+', 'Free', '0', 'Everyone', 'Photography', 'August 6, 2018', 'Varies with device', 'Varies with device']\n",
      "['SuperPhoto - Effects & Filters', 'PHOTOGRAPHY', '4.1', '43296', 'Varies with device', '5,000,000+', 'Free', '0', 'Everyone', 'Photography', 'September 20, 2017', 'Varies with device', 'Varies with device']\n",
      "['Camera FV-5 Lite', 'PHOTOGRAPHY', '4.0', '130081', '5.6M', '10,000,000+', 'Free', '0', 'Everyone', 'Photography', 'November 10, 2017', '3.31.4', '4.0 and up']\n",
      "['HD Camera Ultra', 'PHOTOGRAPHY', '4.3', '462152', '1.5M', '10,000,000+', 'Free', '0', 'Everyone', 'Photography', 'October 17, 2015', '2.3.1', 'Varies with device']\n",
      "['Cameringo Lite. Filters Camera', 'PHOTOGRAPHY', '4.2', '140917', '5.7M', '10,000,000+', 'Free', '0', 'Everyone', 'Photography', 'June 11, 2018', '2.2.93', '4.0 and up']\n",
      "['Camera ZOOM FX - FREE', 'PHOTOGRAPHY', '4.0', '88860', '6.1M', '5,000,000+', 'Free', '0', 'Everyone', 'Photography', 'April 6, 2017', '6.2.9', '2.3 and up']\n",
      "['HD Camera Pro for Android', 'PHOTOGRAPHY', '4.1', '49211', '1.9M', '1,000,000+', 'Free', '0', 'Everyone', 'Photography', 'January 19, 2017', '1.5.5', '2.1 and up']\n",
      "['GoPro (formerly Capture)', 'PHOTOGRAPHY', '4.0', '157506', '47M', '10,000,000+', 'Free', '0', 'Everyone', 'Photography', 'May 24, 2018', '4.5.2', '5.0 and up']\n",
      "['Beauty Makeup Snappy Collage Photo Editor - Lidow', 'PHOTOGRAPHY', '4.5', '420973', 'Varies with device', '10,000,000+', 'Free', '0', 'Everyone', 'Photography', 'August 2, 2018', 'Varies with device', 'Varies with device']\n",
      "['Samsung SMART CAMERA App', 'PHOTOGRAPHY', '4.0', '34753', '22M', '1,000,000+', 'Free', '0', 'Everyone', 'Photography', 'July 3, 2018', '1.4.0_180703', '4.2 and up']\n",
      "['Square InPic - Photo Editor & Collage Maker', 'PHOTOGRAPHY', '4.4', '635846', '14M', '50,000,000+', 'Free', '0', 'Everyone', 'Photography', 'May 23, 2018', '4.2.14', '4.0 and up']\n",
      "['High-Speed Camera (GIF,Burst)', 'PHOTOGRAPHY', '4.1', '78140', '10M', '5,000,000+', 'Free', '0', 'Everyone', 'Photography', 'February 11, 2018', '5.5.2', '4.0.3 and up']\n",
      "['Camera MX - Free Photo & Video Camera', 'PHOTOGRAPHY', '4.3', '244371', 'Varies with device', '10,000,000+', 'Free', '0', 'Everyone', 'Photography', 'July 5, 2018', 'Varies with device', 'Varies with device']\n",
      "['EyeEm - Camera & Photo Filter', 'PHOTOGRAPHY', '4.2', '215343', '44M', '10,000,000+', 'Free', '0', 'Everyone', 'Photography', 'July 14, 2018', '6.4.3', '4.0.3 and up']\n",
      "['Retrica', 'PHOTOGRAPHY', '4.3', '6120977', 'Varies with device', '100,000,000+', 'Free', '0', 'Everyone', 'Photography', 'June 28, 2018', '6.1.0', 'Varies with device']\n",
      "['VSCO', 'PHOTOGRAPHY', '4.4', '753115', 'Varies with device', '50,000,000+', 'Free', '0', 'Everyone', 'Photography', 'August 3, 2018', '71', '4.4 and up']\n",
      "['PhotoWonder: Pro Beauty Photo Editor Collage Maker', 'PHOTOGRAPHY', '4.4', '852649', '43M', '50,000,000+', 'Free', '0', 'Teen', 'Photography', 'June 26, 2018', '4.1.0.1', '4.2 and up']\n",
      "['Photo Effects Pro', 'PHOTOGRAPHY', '4.4', '1494491', '21M', '50,000,000+', 'Free', '0', 'Everyone', 'Photography', 'March 21, 2017', '3.3.8', '3.1 and up']\n",
      "['Photo Editor Selfie Camera Filter & Mirror Image', 'PHOTOGRAPHY', '4.3', '527248', 'Varies with device', '50,000,000+', 'Free', '0', 'Everyone', 'Photography', 'February 1, 2018', '1.6.1', 'Varies with device']\n",
      "['No Crop & Square for Instagram', 'PHOTOGRAPHY', '4.6', '819774', '25M', '10,000,000+', 'Free', '0', 'Everyone', 'Photography', 'June 26, 2018', '4.2.3', '4.0 and up']\n",
      "['Picture Grid Builder', 'PHOTOGRAPHY', '4.0', '33439', '3.9M', '5,000,000+', 'Free', '0', 'Everyone', 'Photography', 'July 18, 2016', '3.2', '2.3.3 and up']\n",
      "['HD Camera for Android', 'PHOTOGRAPHY', '4.1', '351255', '4.0M', '10,000,000+', 'Free', '0', 'Everyone', 'Photography', 'June 29, 2018', '4.6.0.0', '4.2 and up']\n",
      "['Photo Studio', 'PHOTOGRAPHY', '4.2', '477831', '51M', '10,000,000+', 'Free', '0', 'Everyone', 'Photography', 'July 28, 2018', '2.0.17.9', '4.0 and up']\n",
      "['Photo Editor Pro', 'PHOTOGRAPHY', '4.3', '1871421', 'Varies with device', '100,000,000+', 'Free', '0', 'Everyone', 'Photography', 'December 21, 2017', 'Varies with device', 'Varies with device']\n",
      "['Photo Editor-', 'PHOTOGRAPHY', '4.3', '68071', 'Varies with device', '5,000,000+', 'Free', '0', 'Everyone', 'Photography', 'May 5, 2018', 'Varies with device', 'Varies with device']\n",
      "['Mirror Photo:Editor Collage (HD)', 'PHOTOGRAPHY', '4.1', '373606', 'Varies with device', '10,000,000+', 'Free', '0', 'Everyone', 'Photography', 'March 27, 2018', 'Varies with device', 'Varies with device']\n",
      "['Pic Stitch - #1 Collage Maker', 'PHOTOGRAPHY', '4.2', '15426', '50M', '1,000,000+', 'Free', '0', 'Everyone', 'Photography', 'July 24, 2018', '3.8.3', '5.1 and up']\n",
      "['PhotoDirector Photo Editor App', 'PHOTOGRAPHY', '4.6', '714340', 'Varies with device', '10,000,000+', 'Free', '0', 'Everyone', 'Photography', 'July 28, 2018', 'Varies with device', 'Varies with device']\n",
      "['Pic Collage - Photo Editor', 'PHOTOGRAPHY', '4.6', '1451000', 'Varies with device', '50,000,000+', 'Free', '0', 'Everyone', 'Photography', 'July 19, 2018', 'Varies with device', 'Varies with device']\n",
      "['Photo Editor by Aviary', 'PHOTOGRAPHY', '4.4', '1490732', '21M', '50,000,000+', 'Free', '0', 'Everyone', 'Photography', 'July 19, 2018', '4.8.4', '4.1 and up']\n",
      "['Video Editor Music,Cut,No Crop', 'PHOTOGRAPHY', '4.7', '2163282', 'Varies with device', '50,000,000+', 'Free', '0', 'Everyone', 'Photography', 'July 10, 2018', 'Varies with device', 'Varies with device']\n",
      "['Pixlr – Free Photo Editor', 'PHOTOGRAPHY', '4.4', '1163232', '31M', '50,000,000+', 'Free', '0', 'Everyone', 'Photography', 'July 20, 2018', '3.4.0', '4.0.3 and up']\n",
      "['Photo Editor', 'PHOTOGRAPHY', '4.1', '114680', '27M', '10,000,000+', 'Free', '0', 'Everyone', 'Photography', 'February 15, 2018', '1.38', '4.1 and up']\n",
      "['Photo Collage Maker', 'PHOTOGRAPHY', '4.3', '751766', 'Varies with device', '10,000,000+', 'Free', '0', 'Everyone', 'Photography', 'May 10, 2018', 'Varies with device', 'Varies with device']\n",
      "['Adobe Photoshop Express:Photo Editor Collage Maker', 'PHOTOGRAPHY', '4.2', '914917', 'Varies with device', '50,000,000+', 'Free', '0', 'Everyone', 'Photography', 'July 22, 2018', '5.0.508', '4.4 and up']\n",
      "['BeautyPlus - Easy Photo Editor & Selfie Camera', 'PHOTOGRAPHY', '4.4', '3158151', '53M', '100,000,000+', 'Free', '0', 'Everyone', 'Photography', 'July 31, 2018', '6.9.031', '4.1 and up']\n",
      "['PicsArt Photo Studio: Collage Maker & Pic Editor', 'PHOTOGRAPHY', '4.5', '7594559', '34M', '100,000,000+', 'Free', '0', 'Teen', 'Photography', 'August 6, 2018', '9.40.3', '4.0.3 and up']\n",
      "['Photo Collage Editor', 'PHOTOGRAPHY', '4.2', '1028637', 'Varies with device', '100,000,000+', 'Free', '0', 'Everyone', 'Photography', 'December 21, 2017', 'Varies with device', 'Varies with device']\n",
      "['Color Touch Effects', 'PHOTOGRAPHY', '3.8', '167652', '12M', '10,000,000+', 'Free', '0', 'Everyone', 'Photography', 'April 23, 2018', '4.5', '4.1 and up']\n",
      "['InstaSize Photo Filters & Collage Editor', 'PHOTOGRAPHY', '4.3', '811714', '50M', '50,000,000+', 'Free', '0', 'Everyone', 'Photography', 'August 2, 2018', '4.0.26', '4.4 and up']\n",
      "['Z Camera - Photo Editor, Beauty Selfie, Collage', 'PHOTOGRAPHY', '4.4', '1075277', '47M', '100,000,000+', 'Free', '0', 'Mature 17+', 'Photography', 'August 3, 2018', '4.21', '4.1 and up']\n",
      "['PhotoGrid: Video & Pic Collage Maker, Photo Editor', 'PHOTOGRAPHY', '4.6', '7529865', 'Varies with device', '100,000,000+', 'Free', '0', 'Everyone', 'Photography', 'August 6, 2018', '6.71', 'Varies with device']\n",
      "['Candy Camera - selfie, beauty camera, photo editor', 'PHOTOGRAPHY', '4.4', '3368705', 'Varies with device', '100,000,000+', 'Free', '0', 'Everyone', 'Photography', 'July 16, 2018', '4.47', '4.0.3 and up']\n",
      "['YouCam Perfect - Selfie Photo Editor', 'PHOTOGRAPHY', '4.5', '1579343', 'Varies with device', '100,000,000+', 'Free', '0', 'Everyone', 'Photography', 'July 25, 2018', 'Varies with device', 'Varies with device']\n",
      "['Pixgram- video photo slideshow', 'PHOTOGRAPHY', '4.2', '93726', '9.2M', '5,000,000+', 'Free', '0', 'Everyone', 'Photography', 'July 8, 2018', '2.0.18', '4.3 and up']\n",
      "['Fotor Photo Editor - Photo Collage & Photo Effects', 'PHOTOGRAPHY', '4.5', '597068', 'Varies with device', '10,000,000+', 'Free', '0', 'Everyone', 'Photography', 'July 9, 2018', 'Varies with device', 'Varies with device']\n",
      "['Snapseed', 'PHOTOGRAPHY', '4.5', '823109', 'Varies with device', '50,000,000+', 'Free', '0', 'Everyone', 'Photography', 'June 29, 2018', '2.19.0.201907232', '4.4 and up']\n",
      "['Camera360: Selfie Photo Editor with Funny Sticker', 'PHOTOGRAPHY', '4.3', '4865132', '51M', '100,000,000+', 'Free', '0', 'Everyone', 'Photography', 'August 6, 2018', '9.3.1', '4.0.3 and up']\n",
      "['Font Studio- Photo Texts Image', 'PHOTOGRAPHY', '4.2', '197295', '24M', '10,000,000+', 'Free', '0', 'Everyone', 'Photography', 'June 23, 2017', '4.0.7', '4.0 and up']\n",
      "['Add Text To Photo', 'PHOTOGRAPHY', '4.1', '21578', '1.6M', '1,000,000+', 'Free', '0', 'Everyone', 'Photography', 'September 8, 2017', '1.1.3', '2.3 and up']\n",
      "['Phonto - Text on Photos', 'PHOTOGRAPHY', '4.3', '307453', '17M', '10,000,000+', 'Free', '0', 'Everyone', 'Photography', 'October 26, 2017', '1.7.16', '4.0.3 and up']\n",
      "['Collage&Add Stickers papelook', 'PHOTOGRAPHY', '4.0', '32896', '31M', '5,000,000+', 'Free', '0', 'Everyone', 'Photography', 'March 14, 2018', '3.3.5', '2.3.3 and up']\n",
      "['Shutterfly: Free Prints, Photo Books, Cards, Gifts', 'PHOTOGRAPHY', '4.6', '98717', '59M', '5,000,000+', 'Free', '0', 'Everyone', 'Photography', 'August 1, 2018', '5.13.1', '5.0 and up']\n",
      "['Photo Collage - InstaMag', 'PHOTOGRAPHY', '4.3', '542561', '46M', '10,000,000+', 'Free', '0', 'Everyone', 'Photography', 'January 2, 2018', '4.7.0', '4.0 and up']\n",
      "['Meitu – Beauty Cam, Easy Photo Editor', 'PHOTOGRAPHY', '4.5', '462702', '45M', '10,000,000+', 'Free', '0', 'Everyone', 'Photography', 'August 1, 2018', '8.1.0.6', '4.3 and up']\n",
      "['Bestie - Camera360 Selfie', 'PHOTOGRAPHY', '4.5', '512996', '23M', '10,000,000+', 'Free', '0', 'Everyone', 'Photography', 'August 2, 2018', '4.0.3.5', '4.1 and up']\n",
      "['B Tiff Viewer', 'PHOTOGRAPHY', '4.1', '283', '7.4M', '100,000+', 'Free', '0', 'Everyone', 'Photography', 'May 12, 2018', '1.1.7.4', '4.0 and up']\n",
      "['F-Stop Gallery', 'PHOTOGRAPHY', '4.2', '12726', '15M', '1,000,000+', 'Free', '0', 'Everyone', 'Photography', 'July 21, 2018', '4.9.18', '4.1 and up']\n",
      "['How Do I Look', 'PHOTOGRAPHY', '2.7', '3032', '2.8M', '500,000+', 'Free', '0', 'Everyone', 'Photography', 'December 8, 2017', '1.3', '3.0 and up']\n",
      "['Keepsafe Photo Vault: Hide Private Photos & Videos', 'PHOTOGRAPHY', '4.6', '1656808', 'Varies with device', '50,000,000+', 'Free', '0', 'Everyone', 'Photography', 'July 31, 2018', '9.14.1', '4.4 and up']\n",
      "['MakeupPlus - Your Own Virtual Makeup Artist', 'PHOTOGRAPHY', '4.4', '758780', '53M', '50,000,000+', 'Free', '0', 'Everyone', 'Photography', 'August 3, 2018', '4.0.55', '4.0.3 and up']\n",
      "['Pixlr-o-matic', 'PHOTOGRAPHY', '4.5', '180697', '6.1M', '10,000,000+', 'Free', '0', 'Everyone', 'Photography', 'April 25, 2017', '2.2.5', '2.1 and up']\n",
      "['PixelLab - Text on pictures', 'PHOTOGRAPHY', '4.6', '108002', 'Varies with device', '10,000,000+', 'Free', '0', 'Everyone', 'Photography', 'July 26, 2018', 'Varies with device', 'Varies with device']\n",
      "['Leica Q', 'PHOTOGRAPHY', '3.1', '133', '2.3M', '10,000+', 'Free', '0', 'Everyone', 'Photography', 'May 8, 2018', '1.0.2.1', '4.0 and up']\n",
      "['S Photo Editor - Collage Maker , Photo Collage', 'PHOTOGRAPHY', '4.4', '972574', '45M', '100,000,000+', 'Free', '0', 'Everyone', 'Photography', 'August 3, 2018', '2.31', '4.1 and up']\n",
      "['U Camera : Phone 6s OS 9 style', 'PHOTOGRAPHY', '4.2', '2158', '3.0M', '500,000+', 'Free', '0', 'Everyone', 'Photography', 'August 28, 2017', '1.0.3', '4.0 and up']\n",
      "['V.360° Camera', 'PHOTOGRAPHY', '3.3', '582', '28M', '100,000+', 'Free', '0', 'Everyone', 'Photography', 'September 11, 2015', '1.1.6', '4.4 and up']\n",
      "['Profile w/o crop for Telegram', 'PHOTOGRAPHY', '4.2', '348', '1.5M', '10,000+', 'Free', '0', 'Everyone', 'Photography', 'April 11, 2014', '3.1.50', '2.3.3 and up']\n",
      "['Z Camera', 'PHOTOGRAPHY', '3.8', '142', '7.7M', '10,000+', 'Free', '0', 'Everyone', 'Photography', 'April 8, 2016', '1.8', '4.0 and up']\n",
      "['Six Pack Abs Photo Editor', 'PHOTOGRAPHY', '4.0', '5967', '17M', '1,000,000+', 'Free', '0', 'Everyone', 'Photography', 'February 2, 2017', '2.0', '3.0 and up']\n",
      "['Brica BPRO5 AE', 'PHOTOGRAPHY', '3.9', '4726', '3.9M', '500,000+', 'Free', '0', 'Everyone', 'Photography', 'June 17, 2015', 'v1.0', '3.1 and up']\n",
      "['AfterFocus', 'PHOTOGRAPHY', '4.2', '165224', '15M', '10,000,000+', 'Free', '0', 'Everyone', 'Photography', 'July 8, 2016', '2.1.0', '4.0.3 and up']\n",
      "['DSLR camera - Auto Focus and Blur Professional', 'PHOTOGRAPHY', '3.4', '30', '3.0M', '10,000+', 'Free', '0', 'Everyone', 'Photography', 'April 18, 2018', '5.1.2', '4.0.3 and up']\n",
      "['AR effect', 'PHOTOGRAPHY', '4.2', '79792', 'Varies with device', '100,000,000+', 'Free', '0', 'Everyone', 'Photography', 'August 3, 2018', 'Varies with device', 'Varies with device']\n",
      "['ASUS PixelMaster Camera', 'PHOTOGRAPHY', '4.4', '626366', 'Varies with device', '10,000,000+', 'Free', '0', 'Everyone', 'Photography', 'June 29, 2016', 'Varies with device', 'Varies with device']\n",
      "['easyFocus', 'PHOTOGRAPHY', '3.7', '3396', '266k', '500,000+', 'Free', '0', 'Everyone', 'Photography', 'November 28, 2012', '1.2.0', '2.2 and up']\n",
      "['Blur Image - DSLR focus effect', 'PHOTOGRAPHY', '3.9', '38055', '4.1M', '5,000,000+', 'Free', '0', 'Everyone', 'Photography', 'June 16, 2017', '1.17', '4.0 and up']\n",
      "['Camera Pro', 'PHOTOGRAPHY', '4.1', '7479', '13M', '1,000,000+', 'Free', '0', 'Everyone', 'Photography', 'April 16, 2018', '5.4', '4.0 and up']\n",
      "['HD Camera - silent shutter', 'PHOTOGRAPHY', '4.0', '26530', '3.9M', '1,000,000+', 'Free', '0', 'Everyone', 'Photography', 'July 23, 2018', '2.3.5', '3.2 and up']\n",
      "['A Better Camera', 'PHOTOGRAPHY', '4.1', '76484', 'Varies with device', '5,000,000+', 'Free', '0', 'Everyone', 'Photography', 'June 8, 2018', '3.52', '4.0 and up']\n",
      "['Auto Dslr Photo Effect : Auto Focus Effect', 'PHOTOGRAPHY', '3.8', '6', '3.5M', '1,000+', 'Free', '0', 'Everyone', 'Photography', 'February 20, 2018', '1.6', '4.0.3 and up']\n",
      "['PhotoScan by Google Photos', 'PHOTOGRAPHY', '4.3', '61990', 'Varies with device', '10,000,000+', 'Free', '0', 'Everyone', 'Photography', 'February 9, 2018', '1.5.1.182070924', '5.0 and up']\n",
      "['Afterlight', 'PHOTOGRAPHY', '4.3', '50893', '35M', '1,000,000+', 'Free', '0', 'Everyone', 'Photography', 'November 20, 2014', '1.0.6', '4.0.3 and up']\n",
      "['Blurfoto : Auto blur photo background & DSLR focus', 'PHOTOGRAPHY', '4.3', '2215', '12M', '500,000+', 'Free', '0', 'Everyone', 'Photography', 'July 27, 2018', '1.12', '4.3 and up']\n",
      "['Blur', 'PHOTOGRAPHY', '4.0', '9013', '2.4M', '1,000,000+', 'Free', '0', 'Everyone', 'Photography', 'June 18, 2018', '4.0.2', '4.4 and up']\n",
      "['Picai - Smart AI Camera', 'PHOTOGRAPHY', '4.0', '529', 'Varies with device', '100,000+', 'Free', '0', 'Everyone', 'Photography', 'July 17, 2018', '1.2.3', '6.0 and up']\n",
      "['Adobe Illustrator Draw', 'PHOTOGRAPHY', '4.4', '65766', 'Varies with device', '5,000,000+', 'Free', '0', 'Everyone', 'Photography', 'April 2, 2018', '3.4.23', '5.0 and up']\n",
      "['FaceApp', 'PHOTOGRAPHY', '4.4', '346681', '7.1M', '10,000,000+', 'Free', '0', 'Everyone', 'Photography', 'February 10, 2018', '2.0.949', '4.4 and up']\n",
      "['AI Image Recognizer (beta)', 'PHOTOGRAPHY', 'NaN', '0', '3.7M', '500+', 'Free', '0', 'Everyone', 'Photography', 'September 13, 2017', 'closed', '4.0 and up']\n",
      "['AJ Cam', 'PHOTOGRAPHY', '5.0', '44', '2.8M', '100+', 'Free', '0', 'Everyone', 'Photography', 'January 23, 2018', '1.0', '4.1 and up']\n",
      "['Selfie With Champion AJ Style', 'PHOTOGRAPHY', '5.0', '2', '7.5M', '500+', 'Free', '0', 'Everyone', 'Photography', 'January 8, 2018', '1.0', '3.2 and up']\n",
      "['A.J. Styles HD Wallpapers 2018', 'PHOTOGRAPHY', 'NaN', '1', '7.6M', '100+', 'Free', '0', 'Everyone', 'Photography', 'July 26, 2018', '1.0', '4.1 and up']\n",
      "['Scoompa Video - Slideshow Maker and Video Editor', 'PHOTOGRAPHY', '4.5', '559931', 'Varies with device', '10,000,000+', 'Free', '0', 'Everyone', 'Photography', 'May 10, 2018', 'Varies with device', 'Varies with device']\n",
      "['AEE AP', 'PHOTOGRAPHY', 'NaN', '4', '17M', '1,000+', 'Free', '0', 'Everyone', 'Photography', 'February 7, 2018', '1.01', '2.2 and up']\n",
      "['SNOW - AR Camera', 'PHOTOGRAPHY', '4.3', '1017237', 'Varies with device', '50,000,000+', 'Free', '0', 'Everyone', 'Photography', 'July 30, 2018', '7.6.5', '4.3 and up']\n",
      "['Add Watermark Free', 'PHOTOGRAPHY', '4.3', '18325', 'Varies with device', '1,000,000+', 'Free', '0', 'Everyone', 'Photography', 'September 3, 2017', 'Varies with device', 'Varies with device']\n",
      "['camera zoom moon', 'PHOTOGRAPHY', '3.7', '1213', '1.1M', '500,000+', 'Free', '0', 'Everyone', 'Photography', 'January 23, 2018', '1.06', '2.3 and up']\n",
      "['AZ Camera - Manual Pro Cam', 'PHOTOGRAPHY', '3.4', '2332', '1.6M', '100,000+', 'Free', '0', 'Everyone', 'Photography', 'August 28, 2015', '2.2', '5.0 and up']\n",
      "['BC Camera', 'PHOTOGRAPHY', '4.2', '5', '5.5M', '500+', 'Free', '0', 'Everyone', 'Photography', 'January 10, 2018', '1.0', '4.0.3 and up']\n",
      "['Photo Editor by BeFunky', 'PHOTOGRAPHY', '4.5', '192851', 'Varies with device', '10,000,000+', 'Free', '0', 'Everyone', 'Photography', 'September 12, 2017', 'Varies with device', 'Varies with device']\n",
      "['Be Fabulous PHOTO BOOTH', 'PHOTOGRAPHY', '4.1', '560', '1.7M', '10,000+', 'Free', '0', 'Everyone', 'Photography', 'February 1, 2017', '1.07', '4.0 and up']\n",
      "['Adobe Photoshop Fix', 'PHOTOGRAPHY', '4.2', '28390', '38M', '5,000,000+', 'Free', '0', 'Everyone', 'Photography', 'July 19, 2017', '1.0.499', '5.0 and up']\n",
      "['Photo BG Changer', 'PHOTOGRAPHY', '3.8', '11', '17M', '1,000+', 'Free', '0', 'Everyone', 'Photography', 'February 21, 2018', '1.3', '4.1 and up']\n",
      "['BG Editor', 'PHOTOGRAPHY', 'NaN', '0', '8.4M', '5+', 'Free', '0', 'Everyone', 'Photography', 'July 23, 2018', '1.2', '4.1 and up']\n",
      "['PhotoLayers〜Superimpose,Eraser', 'PHOTOGRAPHY', '4.5', '81219', '2.6M', '10,000,000+', 'Free', '0', 'Everyone', 'Photography', 'June 14, 2015', '1.4.0', '4.1 and up']\n",
      "['Blender BG - Photo Blend With Background', 'PHOTOGRAPHY', 'NaN', '0', '7.8M', '100+', 'Free', '0', 'Everyone', 'Photography', 'September 20, 2017', '1.0', '4.2 and up']\n",
      "['Auto Background Changer', 'PHOTOGRAPHY', '4.0', '35188', '6.2M', '1,000,000+', 'Free', '0', 'Everyone', 'Photography', 'February 22, 2018', '1.0.11', '3.2 and up']\n",
      "['Change photo background', 'PHOTOGRAPHY', '3.8', '28660', '6.4M', '5,000,000+', 'Free', '0', 'Everyone', 'Photography', 'March 21, 2018', '1.0.12', '4.0.3 and up']\n",
      "['Background Eraser', 'PHOTOGRAPHY', '4.5', '267378', '1.9M', '10,000,000+', 'Free', '0', 'Everyone', 'Photography', 'July 11, 2015', '1.4.6', '4.0 and up']\n",
      "['Background Changer & Eraser', 'PHOTOGRAPHY', '4.0', '2076', '11M', '500,000+', 'Free', '0', 'Teen', 'Photography', 'May 21, 2018', '2.5', '4.1 and up']\n",
      "['Cut Out : Background Eraser and background changer', 'PHOTOGRAPHY', '4.1', '7118', '9.2M', '1,000,000+', 'Free', '0', 'Everyone', 'Photography', 'June 29, 2018', '1.6', '4.0 and up']\n",
      "['Ultimate Background Eraser', 'PHOTOGRAPHY', '4.3', '14453', '21M', '1,000,000+', 'Free', '0', 'Everyone', 'Photography', 'March 13, 2018', '1.9', '4.1 and up']\n",
      "['DSLR Photography Training apps', 'PHOTOGRAPHY', '4.0', '675', '15M', '100,000+', 'Free', '0', 'Everyone', 'Photography', 'July 29, 2017', '2.1', '2.3 and up']\n",
      "['Photo Editor - BPhoto', 'PHOTOGRAPHY', '4.5', '42', '20M', '1,000+', 'Free', '0', 'Everyone', 'Photography', 'September 17, 2016', '1.2', '4.2 and up']\n",
      "['24 megapixel hd camera', 'PHOTOGRAPHY', '4.0', '802', '5.1M', '100,000+', 'Free', '0', 'Everyone', 'Photography', 'May 3, 2017', '1.1', '2.3 and up']\n",
      "['BK Photography', 'PHOTOGRAPHY', '4.3', '20', '4.8M', '1,000+', 'Free', '0', 'Everyone', 'Photography', 'January 6, 2017', '0.1', '2.3 and up']\n",
      "['BL 1-Click Camera - Free', 'PHOTOGRAPHY', '3.5', '52', '1.8M', '10,000+', 'Free', '0', 'Everyone', 'Photography', 'August 18, 2016', '2.0.160818', '2.3 and up']\n",
      "['BL Portfolio', 'PHOTOGRAPHY', 'NaN', '4', '16M', '100+', 'Free', '0', 'Everyone', 'Photography', 'June 13, 2017', '1.2', '4.1 and up']\n",
      "['BQ Camera', 'PHOTOGRAPHY', '3.6', '2526', 'Varies with device', '1,000,000+', 'Free', '0', 'Everyone', 'Photography', 'July 2, 2018', 'Varies with device', 'Varies with device']\n",
      "['BT Camera', 'PHOTOGRAPHY', '3.3', '1307', '6.6M', '500,000+', 'Free', '0', 'Everyone', 'Photography', 'February 24, 2017', '1.8', '2.3 and up']\n",
      "['BlitzWolf Shutter - BW Shutter', 'PHOTOGRAPHY', '2.9', '333', '1.8M', '50,000+', 'Free', '0', 'Everyone', 'Photography', 'November 22, 2017', '1.8.0', '4.0 and up']\n",
      "['Black & White Camera - Lovely BW', 'PHOTOGRAPHY', '4.2', '329', '4.8M', '100,000+', 'Free', '0', 'Everyone', 'Photography', 'November 13, 2017', '1.1.0', '4.4 and up']\n",
      "['Analog BW - Camera filter effect foto film retouch', 'PHOTOGRAPHY', 'NaN', '2', '17M', '100+', 'Free', '0', 'Everyone', 'Photography', 'May 23, 2018', '1.1', '4.4 and up']\n",
      "['Hypocam', 'PHOTOGRAPHY', '4.5', '12572', '8.5M', '1,000,000+', 'Free', '0', 'Everyone', 'Photography', 'March 14, 2018', '1.31', '4.0 and up']\n",
      "['B&W Photo Filter Editor', 'PHOTOGRAPHY', '3.9', '205', '2.4M', '50,000+', 'Free', '0', 'Everyone', 'Photography', 'July 29, 2017', '1.0.5', '4.0 and up']\n",
      "['CB VIDEO VISION', 'PHOTOGRAPHY', '5.0', '13', '2.6M', '100+', 'Free', '0', 'Everyone', 'Photography', 'September 12, 2017', '0.0.2', '4.1 and up']\n",
      "['CB Hair Png - New Hair Png For CB Editing', 'PHOTOGRAPHY', '4.6', '26', '7.2M', '500+', 'Free', '0', 'Everyone', 'Photography', 'July 29, 2018', '2', '4.0 and up']\n",
      "['CB Edits PNG & CB Backgrounds', 'PHOTOGRAPHY', '4.2', '17', '3.4M', '5,000+', 'Free', '0', 'Everyone', 'Photography', 'July 20, 2018', '1.0.0', '4.1 and up']\n",
      "['CG Prints', 'PHOTOGRAPHY', '5.0', '1', '2.3M', '100+', 'Free', '0', 'Everyone', 'Photography', 'January 24, 2017', '1.0.5', '4.3 and up']\n",
      "['Gold Teeth Photo Editor', 'PHOTOGRAPHY', '2.8', '1022', '3.8M', '100,000+', 'Free', '0', 'Everyone', 'Photography', 'August 24, 2016', '2.0', '2.3 and up']\n",
      "['Night Camera Blur Effect', 'PHOTOGRAPHY', '3.6', '100', '2.5M', '10,000+', 'Free', '0', 'Everyone', 'Photography', 'August 5, 2018', '4.2', '4.2 and up']\n",
      "['Camera V7 24 Megapixel', 'PHOTOGRAPHY', '4.0', '2480', '2.5M', '100,000+', 'Free', '0', 'Everyone', 'Photography', 'August 1, 2018', '4.0', '4.1 and up']\n",
      "['Leica CL', 'PHOTOGRAPHY', '2.6', '8', '2.4M', '1,000+', 'Free', '0', 'Everyone', 'Photography', 'November 21, 2017', '1.0', '4.1 and up']\n",
      "['Canon CameraWindow', 'PHOTOGRAPHY', '3.5', '12204', '6.8M', '1,000,000+', 'Free', '0', 'Everyone', 'Photography', 'March 14, 2017', '1.5.2.21', '2.3.3 and up']\n",
      "['Cymera Camera- Photo Editor, Filter,Collage,Layout', 'PHOTOGRAPHY', '4.4', '2418165', 'Varies with device', '100,000,000+', 'Free', '0', 'Everyone', 'Photography', 'July 12, 2018', 'Varies with device', 'Varies with device']\n",
      "['Camera360 Lite - Selfie Camera', 'PHOTOGRAPHY', '4.4', '221878', 'Varies with device', '10,000,000+', 'Free', '0', 'Everyone', 'Photography', 'August 1, 2018', 'Varies with device', '4.1 and up']\n",
      "['Wallpaper.cz', 'PHOTOGRAPHY', '4.9', '7', '2.2M', '100+', 'Free', '0', 'Everyone', 'Photography', 'July 11, 2015', '1.2.0', '3.0 and up']\n",
      "['Face Filter, Selfie Editor - Sweet Camera', 'PHOTOGRAPHY', '4.7', '142758', '22M', '10,000,000+', 'Free', '0', 'Everyone', 'Photography', 'July 6, 2018', '1.5.1', '4.4 and up']\n",
      "['Visage Lab – face retouch', 'PHOTOGRAPHY', '3.5', '49523', 'Varies with device', '5,000,000+', 'Free', '0', 'Everyone', 'Photography', 'October 5, 2016', 'Varies with device', 'Varies with device']\n",
      "['LC-DB-LITE', 'PHOTOGRAPHY', 'NaN', '0', '2.3M', '100+', 'Free', '0', 'Everyone', 'Photography', 'October 20, 2017', '1.0', '4.2 and up']\n",
      "['DC-014', 'PHOTOGRAPHY', '5.0', '3', '16M', '500+', 'Free', '0', 'Everyone', 'Photography', 'June 14, 2018', '1.0.3', '4.1 and up']\n",
      "['Bokeh (Background defocus)', 'PHOTOGRAPHY', '4.0', '50109', 'Varies with device', '10,000,000+', 'Free', '0', 'Everyone', 'Photography', 'June 7, 2018', 'Varies with device', 'Varies with device']\n",
      "['Love Collage - Photo Editor', 'PHOTOGRAPHY', '4.3', '251686', '31M', '10,000,000+', 'Free', '0', 'Everyone', 'Photography', 'July 28, 2017', '2.3.8.6', '4.1 and up']\n",
      "['LINE Camera - Photo editor', 'PHOTOGRAPHY', '4.3', '1517395', 'Varies with device', '100,000,000+', 'Free', '0', 'Everyone', 'Photography', 'March 6, 2018', 'Varies with device', 'Varies with device']\n",
      "['DF Night Selfies', 'PHOTOGRAPHY', '4.3', '194', '1.5M', '10,000+', 'Free', '0', 'Everyone', 'Photography', 'February 15, 2018', '1.6.0', '4.0 and up']\n",
      "['My Photo Keyboard', 'PHOTOGRAPHY', '4.1', '211620', '20M', '10,000,000+', 'Free', '0', 'Everyone', 'Photography', 'March 29, 2018', '7.4', '4.0 and up']\n",
      "['Story Saver for Instagram', 'PHOTOGRAPHY', '4.5', '41331', '5.0M', '5,000,000+', 'Free', '0', 'Everyone', 'Photography', 'July 31, 2018', '1.4.4', '4.0.3 and up']\n",
      "['Boomerang from Instagram', 'PHOTOGRAPHY', '4.4', '928720', 'Varies with device', '50,000,000+', 'Free', '0', 'Everyone', 'Photography', 'July 16, 2018', 'Varies with device', 'Varies with device']\n",
      "['Insave-Download for Instagram', 'PHOTOGRAPHY', '4.3', '46242', '5.2M', '1,000,000+', 'Free', '0', 'Everyone', 'Photography', 'September 20, 2016', '2.1.3', '4.0 and up']\n",
      "['DP Editor', 'PHOTOGRAPHY', '4.3', '18', '15M', '5,000+', 'Free', '0', 'Teen', 'Photography', 'August 4, 2018', '1.5', '4.1 and up']\n",
      "['DP Maker', 'PHOTOGRAPHY', '4.2', '784', '18M', '100,000+', 'Free', '0', 'Everyone', 'Photography', 'April 29, 2018', '1.00.15', '4.1 and up']\n",
      "['Square DP For Whatsapp', 'PHOTOGRAPHY', '4.2', '67', '15M', '10,000+', 'Free', '0', 'Everyone', 'Photography', 'March 29, 2017', '1.0', '4.0.3 and up']\n",
      "['DP Creator for WhatsApp', 'PHOTOGRAPHY', '3.8', '4813', '5.1M', '100,000+', 'Free', '0', 'Everyone', 'Photography', 'March 19, 2016', '1.5', '2.2 and up']\n",
      "['Dp For FB', 'PHOTOGRAPHY', '4.5', '12', '2.0M', '1,000+', 'Free', '0', 'Teen', 'Photography', 'October 19, 2017', '1.0', '4.1 and up']\n",
      "['Magical Insta DP', 'PHOTOGRAPHY', 'NaN', '2', '5.2M', '1,000+', 'Free', '0', 'Everyone', 'Photography', 'June 28, 2018', '1.1', '4.0 and up']\n",
      "['All Types DP & Status Maker', 'PHOTOGRAPHY', '4.5', '16', '14M', '1,000+', 'Free', '0', 'Teen', 'Photography', 'July 12, 2018', '2.1.5', '4.0.3 and up']\n",
      "['DP Photo Editor', 'PHOTOGRAPHY', '4.1', '88', '7.7M', '10,000+', 'Free', '0', 'Everyone', 'Photography', 'September 29, 2017', '2.5', '4.1 and up']\n",
      "['Fifa World Cup 2018: Photo Frame Editor & DP Maker', 'PHOTOGRAPHY', '4.6', '666', '8.7M', '100,000+', 'Free', '0', 'Everyone', 'Photography', 'June 20, 2018', '6.1', '4.0.3 and up']\n",
      "['Insta Square Profile DP', 'PHOTOGRAPHY', '3.7', '42', '11M', '5,000+', 'Free', '0', 'Everyone', 'Photography', 'September 1, 2015', '1.0', '4.0 and up']\n",
      "['DP Status 2017', 'PHOTOGRAPHY', '4.2', '302', '7.0M', '50,000+', 'Free', '0', 'Everyone', 'Photography', 'June 15, 2017', '15|06|17', '4.1 and up']\n",
      "['LightMeter Free', 'PHOTOGRAPHY', '4.1', '5485', '13M', '1,000,000+', 'Free', '0', 'Everyone', 'Photography', 'April 28, 2016', '1.2.3', '3.2 and up']\n",
      "['DS-L4 Viewer', 'PHOTOGRAPHY', '3.5', '13', '7.9M', '1,000+', 'Free', '0', 'Everyone', 'Photography', 'January 29, 2018', '1.2.0.9', '5.0 and up']\n",
      "['DU GIF Maker: GIF Maker, Video to GIF & GIF Editor', 'PHOTOGRAPHY', '4.6', '7605', '4.3M', '500,000+', 'Free', '0', 'Everyone', 'Photography', 'April 10, 2018', '1.2.2.2', '4.3 and up']\n",
      "['DU Collage Maker - Photo Collage & Grid & Layout', 'PHOTOGRAPHY', '4.7', '4595', '2.5M', '100,000+', 'Free', '0', 'Everyone', 'Photography', 'September 4, 2017', '1.4.0', '4.0 and up']\n",
      "['Live DV', 'PHOTOGRAPHY', '2.0', '16', '17M', '1,000+', 'Free', '0', 'Everyone', 'Photography', 'May 9, 2018', '1.0.6', '4.4 and up']\n",
      "['DV-4036 by Somikon', 'PHOTOGRAPHY', 'NaN', '17', '44M', '1,000+', 'Free', '0', 'Everyone', 'Photography', 'January 19, 2017', '0.0.5', '4.3 and up']\n",
      "['Touch DV', 'PHOTOGRAPHY', 'NaN', '1', '11M', '50+', 'Free', '0', 'Everyone', 'Photography', 'July 7, 2017', '10.4', '4.2 and up']\n",
      "['XDV', 'PHOTOGRAPHY', '3.1', '6827', '8.7M', '1,000,000+', 'Free', '0', 'Everyone', 'Photography', 'April 20, 2018', '1.9.5', '2.3 and up']\n",
      "['DV Lottery Photo Tool', 'PHOTOGRAPHY', '4.0', '223', '1.7M', '50,000+', 'Free', '0', 'Everyone', 'Photography', 'October 28, 2017', '1.06', '4.2 and up']\n",
      "['DV KING 4K', 'PHOTOGRAPHY', '2.3', '3', '8.5M', '100+', 'Free', '0', 'Everyone', 'Photography', 'July 17, 2018', '1.0.10', '4.0 and up']\n",
      "['Wifi Action Camera', 'PHOTOGRAPHY', '2.9', '118', '26M', '50,000+', 'Free', '0', 'Everyone', 'Photography', 'July 24, 2018', '1.3.5', '4.0 and up']\n",
      "['4K Ultra Camera', 'PHOTOGRAPHY', '4.2', '382', '2.9M', '100,000+', 'Free', '0', 'Everyone', 'Photography', 'July 30, 2018', '39.272.12', '2.2 and up']\n",
      "['DV KING', 'PHOTOGRAPHY', '3.0', '2', '9.3M', '100+', 'Free', '0', 'Everyone', 'Photography', 'September 19, 2017', '1.0.0', '2.2 and up']\n",
      "['DENVER ACTION CAM 3', 'PHOTOGRAPHY', '2.9', '66', '8.9M', '10,000+', 'Free', '0', 'Everyone', 'Photography', 'November 16, 2016', '1.0.2', '2.2 and up']\n",
      "['SportLook', 'PHOTOGRAPHY', '2.5', '1283', '8.2M', '100,000+', 'Free', '0', 'Everyone', 'Photography', 'June 21, 2018', '1.2.7', '4.1 and up']\n",
      "['Displaying You VR', 'PHOTOGRAPHY', 'NaN', '1', '67M', '50+', 'Free', '0', 'Everyone', 'Photography', 'October 19, 2016', '3.0.6.2', '4.0 and up']\n",
      "['i am EB', 'PHOTOGRAPHY', '5.0', '1', '5.4M', '10+', 'Free', '0', 'Teen', 'Photography', 'February 1, 2017', '1.0', '4.1 and up']\n",
      "['Retro Camera', 'PHOTOGRAPHY', '4.0', '125616', 'Varies with device', '10,000,000+', 'Free', '0', 'Everyone', 'Photography', 'March 10, 2017', 'Varies with device', '2.3.3 and up']\n",
      "['Footej Camera', 'PHOTOGRAPHY', '4.3', '13258', 'Varies with device', '1,000,000+', 'Free', '0', 'Everyone', 'Photography', 'June 20, 2018', '2.3.0 build 180', '5.0 and up']\n",
      "['Video Maker with Photo and Music', 'PHOTOGRAPHY', '4.3', '4871', '30M', '1,000,000+', 'Free', '0', 'Everyone', 'Photography', 'March 19, 2018', '1.0.2', '4.1 and up']\n",
      "['Phogy, 3D Camera', 'PHOTOGRAPHY', '4.0', '35725', '9.9M', '1,000,000+', 'Free', '0', 'Everyone', 'Photography', 'February 11, 2015', '1.40', '4.0 and up']\n",
      "['Photo Lab Picture Editor: face effects, art frames', 'PHOTOGRAPHY', '4.5', '1536512', 'Varies with device', '50,000,000+', 'Free', '0', 'Everyone', 'Photography', 'July 17, 2018', 'Varies with device', 'Varies with device']\n",
      "['MomentCam Cartoons & Stickers', 'PHOTOGRAPHY', '4.2', '1260143', 'Varies with device', '50,000,000+', 'Free', '0', 'Everyone', 'Photography', 'July 12, 2018', 'Varies with device', 'Varies with device']\n",
      "['A+ Gallery - Photos & Videos', 'PHOTOGRAPHY', '4.5', '223941', 'Varies with device', '10,000,000+', 'Free', '0', 'Everyone', 'Photography', 'August 6, 2018', 'Varies with device', 'Varies with device']\n",
      "['Light Meter - EV', 'PHOTOGRAPHY', '4.0', '26', '8.5M', '1,000+', 'Free', '0', 'Everyone', 'Photography', 'August 2, 2018', '4.1.1', '4.4 and up']\n",
      "['FilterGrid - Cam&Photo Editor', 'PHOTOGRAPHY', '4.6', '126338', '9.6M', '1,000,000+', 'Free', '0', 'Everyone', 'Photography', 'March 15, 2017', '2.0.5', '4.0 and up']\n",
      "['ez Share Android app', 'PHOTOGRAPHY', '3.3', '1461', '13M', '100,000+', 'Free', '0', 'Everyone', 'Photography', 'August 31, 2017', '3.2.6', '2.3 and up']\n",
      "['Ez iCam', 'PHOTOGRAPHY', '3.1', '7300', '46M', '1,000,000+', 'Free', '0', 'Teen', 'Photography', 'January 12, 2018', 'V4.1.0', '5.0 and up']\n",
      "['Facejjang', 'PHOTOGRAPHY', '4.1', '100179', '96M', '10,000,000+', 'Free', '0', 'Everyone', 'Photography', 'May 17, 2018', '2.52', '4.0.3 and up']\n",
      "['Cover Camera for FB', 'PHOTOGRAPHY', '3.8', '742', '1.8M', '100,000+', 'Free', '0', 'Everyone', 'Photography', 'March 9, 2014', '3.0.0', '2.2 and up']\n",
      "['FB Photographie', 'PHOTOGRAPHY', '4.7', '37', '10M', '1,000+', 'Free', '0', 'Everyone', 'Photography', 'May 22, 2016', '2.0', '4.0 and up']\n",
      "['FD Fotografia', 'PHOTOGRAPHY', 'NaN', '2', '4.2M', '100+', 'Free', '0', 'Everyone', 'Photography', 'January 17, 2018', '0.0.9', '4.1 and up']\n",
      "['Ghost In Photo', 'PHOTOGRAPHY', '3.9', '28429', '14M', '5,000,000+', 'Free', '0', 'Teen', 'Photography', 'March 16, 2018', '2.0', '2.3 and up']\n",
      "['FH WiFiCam', 'PHOTOGRAPHY', '2.6', '201', '2.5M', '10,000+', 'Free', '0', 'Everyone', 'Photography', 'May 2, 2017', '2.1', '4.1 and up']\n",
      "['PIP Selfie Camera Photo Editor', 'PHOTOGRAPHY', '4.4', '156322', 'Varies with device', '10,000,000+', 'Free', '0', 'Everyone', 'Photography', 'February 1, 2018', 'Varies with device', 'Varies with device']\n",
      "['FL Drone 2', 'PHOTOGRAPHY', '3.3', '41', '7.8M', '5,000+', 'Free', '0', 'Everyone', 'Photography', 'August 17, 2017', '1.0.7', '2.2 and up']\n",
      "['FN Cam', 'PHOTOGRAPHY', '3.4', '181', '10M', '10,000+', 'Free', '0', 'Everyone', 'Photography', 'January 13, 2016', '1.1.5', '4.0.3 and up']\n",
      "['PIP-Camera FN Photo Effect', 'PHOTOGRAPHY', '4.6', '8', '9.0M', '1,000+', 'Free', '0', 'Everyone', 'Photography', 'December 4, 2016', '1.0', '2.3 and up']\n",
      "['Photo Editor Collage Maker Pro', 'PHOTOGRAPHY', '4.5', '1519671', 'Varies with device', '100,000,000+', 'Free', '0', 'Everyone', 'Photography', 'February 1, 2018', 'Varies with device', 'Varies with device']\n",
      "['Free Slideshow Maker & Video Editor', 'PHOTOGRAPHY', '4.2', '162564', '11M', '10,000,000+', 'Free', '0', 'Everyone', 'Photography', 'August 5, 2018', '5.2', '4.0 and up']\n",
      "['Thumbnail Maker', 'PHOTOGRAPHY', '4.4', '26252', '24M', '1,000,000+', 'Free', '0', 'Everyone', 'Photography', 'May 26, 2018', '1.7', '4.2 and up']\n",
      "['PhotoFunia', 'PHOTOGRAPHY', '4.3', '316378', '4.4M', '10,000,000+', 'Free', '0', 'Everyone', 'Photography', 'June 3, 2017', '4.0.7.0', '2.3 and up']\n"
     ]
    }
   ],
   "source": [
    "for app in playstore_final:\n",
    "    if app[9] == 'Photography':\n",
    "        print(app)"
   ]
  },
  {
   "cell_type": "markdown",
   "metadata": {},
   "source": [
    "Like with the Apple Store, we see a lot of photo editors with a large number of users, even outside of the usual suspects. Additional analysis would be required before proceeding, but this seems like a reasonable category to focus on for our app. \n",
    "\n",
    "Additional analysis that could help us in the development of our app includes:\n",
    "    - Finding specifically what apps are the most popular, and of those which are easiest to emulate\n",
    "    - Identifying what 'spin' we could put on a familiar format in order to stand out in the market"
   ]
  }
 ],
 "metadata": {
  "kernelspec": {
   "display_name": "Python 3",
   "language": "python",
   "name": "python3"
  },
  "language_info": {
   "codemirror_mode": {
    "name": "ipython",
    "version": 3
   },
   "file_extension": ".py",
   "mimetype": "text/x-python",
   "name": "python",
   "nbconvert_exporter": "python",
   "pygments_lexer": "ipython3",
   "version": "3.7.4"
  }
 },
 "nbformat": 4,
 "nbformat_minor": 2
}
